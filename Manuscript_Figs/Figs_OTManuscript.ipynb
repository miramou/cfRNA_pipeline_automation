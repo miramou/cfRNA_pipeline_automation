{
 "cells": [
  {
   "cell_type": "code",
   "execution_count": 1,
   "metadata": {},
   "outputs": [],
   "source": [
    "from util.gen_utils import *\n",
    "from util.read_qpcr_plate_class import *\n",
    "\n",
    "import matplotlib\n",
    "import matplotlib.pyplot as plt\n",
    "import scipy.stats\n",
    "from statsmodels.stats import multitest\n",
    "import seaborn as sns\n",
    "\n",
    "%load_ext autoreload\n",
    "%autoreload 2"
   ]
  },
  {
   "cell_type": "code",
   "execution_count": 2,
   "metadata": {},
   "outputs": [],
   "source": [
    "#Set fig export settings\n",
    "\n",
    "#For editable text. Except latex text is still shapes sadly\n",
    "matplotlib.rcParams['pdf.fonttype'] = 42\n",
    "matplotlib.rcParams['ps.fonttype'] = 42\n",
    "\n",
    "sns.set_style(\"whitegrid\")\n",
    "font = {'size' : 5}\n",
    "lines = {'linewidth' : 0.5}\n",
    "fig = {'figsize' : (2.5, 1.5)}\n",
    "\n",
    "matplotlib.rc('font', **font)\n",
    "matplotlib.rc('lines', **lines)\n",
    "matplotlib.rc('figure', **fig)\n",
    "\n",
    "%matplotlib inline"
   ]
  },
  {
   "cell_type": "markdown",
   "metadata": {},
   "source": [
    "# Figure 2 "
   ]
  },
  {
   "cell_type": "markdown",
   "metadata": {},
   "source": [
    "## Load data\n",
    "4 independent experiments that fully run through the semi-automated pipeline. Results quantified in 5 qPCR plates. \n",
    "Each experiment laid out samples in a checkerboard pattern to quantify cross-contamination in addition to measuring end-point RNA rescue \n",
    "\n",
    "* Load in class defined for qPCR plate. \n",
    "* For each plate specify which wells correspond to which condition in plate layout. The length of each value in plate layout indicates the number of technical replicates. "
   ]
  },
  {
   "cell_type": "code",
   "execution_count": 3,
   "metadata": {},
   "outputs": [],
   "source": [
    "#Fig 2B data\n",
    "plate_layout_fig2b_1215 = {'p1_pre_refrigeration' : [get_well_list(\"ABCDEFGH\", np.arange(1,13,2)),\n",
    "                                get_well_list(\"ABCDEFGH\", np.arange(2,13,2))],\n",
    "                     'p1_post_refrigeration' : [get_well_list(\"ABCDEFGH\", np.arange(13,25,2)),\n",
    "                                get_well_list(\"ABCDEFGH\", np.arange(14,25,2))],\n",
    "                     'p2' : [get_well_list(\"IKMO\", np.arange(3,13,4)) + get_well_list(\"JLNP\", np.arange(1,13,4)), \n",
    "                                get_well_list(\"IKMO\", np.arange(4,13,4)) + get_well_list(\"JLNP\", np.arange(2,13,4))],\n",
    "                     'pc' : [[(\"I\", 17)], [(\"I\", 18)]], 'ntc' : [[(\"I\", 19)], [(\"I\", 20)]]}\n",
    "\n",
    "plate_layout_fig2b_0109 = {'p1_pre_refrigeration' : [get_well_list(\"ACEG\", np.arange(1,13,4)) + get_well_list(\"BDFH\", np.arange(3,13,4)), \n",
    "                                get_well_list(\"ACEG\", np.arange(2,13,4)) + get_well_list(\"BDFH\", np.arange(4,13,4))],\n",
    "                     'p1_post_refrigeration' : [get_well_list(\"ACEG\", np.arange(13,25,4)) + get_well_list(\"BDFH\", np.arange(15,25,4)), \n",
    "                                get_well_list(\"ACEG\", np.arange(14,25,4)) + get_well_list(\"BDFH\", np.arange(16,25,4))],\n",
    "                     'p2' : [get_well_list(\"IKMO\", np.arange(1,13,4)) + get_well_list(\"JLNP\", np.arange(3,13,4)), \n",
    "                                get_well_list(\"IKMO\", np.arange(2,13,4)) + get_well_list(\"JLNP\", np.arange(4,13,4))],\n",
    "                     'pc' : [[(\"I\", 17)], [(\"I\", 18)]], 'ntc' : [[(\"I\", 19)], [(\"I\", 20)]]}\n",
    "\n",
    "#Fig 2C data layout\n",
    "plate_layout_fig2c_0111_0115 = {'spiked' :  [get_well_list(\"ACEG\", np.arange(1,25,4)) + get_well_list(\"BDFH\", np.arange(3, 25, 4)), \n",
    "                                      get_well_list(\"ACEG\", np.arange(2,25,4)) + get_well_list(\"BDFH\", np.arange(4, 25, 4))],\n",
    "                            'ntc_xc' : [get_well_list(\"ACEG\", np.arange(3,25,4)) + get_well_list(\"BDFH\", np.arange(1, 25, 4)), \n",
    "                                      get_well_list(\"ACEG\", np.arange(4,25,4)) + get_well_list(\"BDFH\", np.arange(2, 25, 4))],\n",
    "                          'pc' : [[(\"I\", 5)], [(\"I\", 6)]], 'ntc' : [[(\"I\", 7)], [(\"I\", 8)]]}\n",
    "\n",
    "#Fig 2D data layout\n",
    "plate_layout_fig2d_0116 = {'0109_spiked' : [get_well_list(\"ACEG\", np.arange(1,25,4)) + get_well_list(\"BDFH\", np.arange(3,25,4))],\n",
    "                            '0111_spiked' : [get_well_list(\"ACEG\", np.arange(2,25,4)) + get_well_list(\"BDFH\", np.arange(4,25,4))],\n",
    "                            '0115_spiked' : [get_well_list(\"IKMO\", np.arange(1,25,4)) + get_well_list(\"JLNP\", np.arange(3,25,4))],\n",
    "                            'manual1_spiked' : [get_well_list(\"I\", np.arange(2,17, 2))],\n",
    "                            'manual2_spiked' : [get_well_list(\"J\", np.arange(2,17, 2))],\n",
    "                            'manual3_spiked' : [get_well_list(\"K\", np.arange(2,17, 2))],\n",
    "                            'pc' : [[(\"I\", 18)], [(\"J\", 18)], [(\"K\", 18)]],\n",
    "                            'ntc' : [[(\"L\", 18)], [(\"M\", 18)]]\n",
    "                          }"
   ]
  },
  {
   "cell_type": "code",
   "execution_count": 4,
   "metadata": {},
   "outputs": [
    {
     "name": "stderr",
     "output_type": "stream",
     "text": [
      "/Users/miramou/Documents/Grad/Lab/Manuscripts/OT/figs/util/read_qpcr_plate_class.py:35: RuntimeWarning: Mean of empty slice\n",
      "  self.data[label] = np.nanmean(self.data_tech_reps[label], axis=1) #if (has_non_nans and not_empty) else np.nan\n",
      "/Users/miramou/miniconda3/envs/gen_comp/lib/python3.6/site-packages/numpy/lib/nanfunctions.py:1665: RuntimeWarning: Degrees of freedom <= 0 for slice.\n",
      "  keepdims=keepdims)\n"
     ]
    }
   ],
   "source": [
    "#Load data\n",
    "ntc_vals = []\n",
    "figdata = {}\n",
    "\n",
    "figdata['fig2b'] = [qpcr_plate(read_qpcr_data(\"../data/fig2/fig2B_121518.xlsx\"), plate_layout_fig2b_1215), \n",
    "                    qpcr_plate(read_qpcr_data(\"../data/fig2/fig2B_010919.xlsx\"), plate_layout_fig2b_0109)]\n",
    "\n",
    "figdata['fig2c'] = [qpcr_plate(read_qpcr_data(\"../data/fig2/fig2C_011119.xlsx\"), plate_layout_fig2c_0111_0115),\n",
    "                    qpcr_plate(read_qpcr_data(\"../data/fig2/fig2C_011519.xlsx\"), plate_layout_fig2c_0111_0115)]\n",
    "\n",
    "figdata['fig2d'] = [qpcr_plate(read_qpcr_data(\"../data/fig2/fig2D_FullComparison.xlsx\"), plate_layout_fig2d_0116)] #Only 1 tech rep per well for this layout\n",
    "\n",
    "figdata['ntc'] = [qpcr_plate(read_qpcr_data(\"../data/supp_ERCC54_oligoQC_100118.xlsx\"), {'ntc' : [get_well_list(\"H\", np.arange(1,13))]})]"
   ]
  },
  {
   "cell_type": "code",
   "execution_count": 5,
   "metadata": {},
   "outputs": [],
   "source": [
    "min_ntc, all_ntc = get_min_ntc_axs_plates(figdata)\n",
    "figdata = update_detection_mask(figdata, min_ntc)"
   ]
  },
  {
   "cell_type": "markdown",
   "metadata": {},
   "source": [
    "## 2B"
   ]
  },
  {
   "cell_type": "code",
   "execution_count": 6,
   "metadata": {},
   "outputs": [
    {
     "data": {
      "text/html": [
       "<div>\n",
       "<style scoped>\n",
       "    .dataframe tbody tr th:only-of-type {\n",
       "        vertical-align: middle;\n",
       "    }\n",
       "\n",
       "    .dataframe tbody tr th {\n",
       "        vertical-align: top;\n",
       "    }\n",
       "\n",
       "    .dataframe thead th {\n",
       "        text-align: right;\n",
       "    }\n",
       "</style>\n",
       "<table border=\"1\" class=\"dataframe\">\n",
       "  <thead>\n",
       "    <tr style=\"text-align: right;\">\n",
       "      <th></th>\n",
       "      <th>val</th>\n",
       "      <th>step</th>\n",
       "      <th>plate</th>\n",
       "      <th>step_plate</th>\n",
       "    </tr>\n",
       "  </thead>\n",
       "  <tbody>\n",
       "    <tr>\n",
       "      <th>0</th>\n",
       "      <td>23.372991</td>\n",
       "      <td>Pre-</td>\n",
       "      <td>Trial 1</td>\n",
       "      <td>Pre-Trial 1</td>\n",
       "    </tr>\n",
       "    <tr>\n",
       "      <th>1</th>\n",
       "      <td>20.332667</td>\n",
       "      <td>Pre-</td>\n",
       "      <td>Trial 1</td>\n",
       "      <td>Pre-Trial 1</td>\n",
       "    </tr>\n",
       "    <tr>\n",
       "      <th>2</th>\n",
       "      <td>20.552727</td>\n",
       "      <td>Pre-</td>\n",
       "      <td>Trial 1</td>\n",
       "      <td>Pre-Trial 1</td>\n",
       "    </tr>\n",
       "    <tr>\n",
       "      <th>3</th>\n",
       "      <td>19.906238</td>\n",
       "      <td>Pre-</td>\n",
       "      <td>Trial 1</td>\n",
       "      <td>Pre-Trial 1</td>\n",
       "    </tr>\n",
       "    <tr>\n",
       "      <th>4</th>\n",
       "      <td>19.633207</td>\n",
       "      <td>Pre-</td>\n",
       "      <td>Trial 1</td>\n",
       "      <td>Pre-Trial 1</td>\n",
       "    </tr>\n",
       "  </tbody>\n",
       "</table>\n",
       "</div>"
      ],
      "text/plain": [
       "         val  step    plate   step_plate\n",
       "0  23.372991  Pre-  Trial 1  Pre-Trial 1\n",
       "1  20.332667  Pre-  Trial 1  Pre-Trial 1\n",
       "2  20.552727  Pre-  Trial 1  Pre-Trial 1\n",
       "3  19.906238  Pre-  Trial 1  Pre-Trial 1\n",
       "4  19.633207  Pre-  Trial 1  Pre-Trial 1"
      ]
     },
     "execution_count": 6,
     "metadata": {},
     "output_type": "execute_result"
    }
   ],
   "source": [
    "plate_n = 1\n",
    "for plate in figdata['fig2b']:\n",
    "    tmp_df = plate.get_plotting_df({'p1_pre_refrigeration' : \"Pre-\", \n",
    "                                    'p1_post_refrigeration' : \"Post-\", \n",
    "                                    'p2' : \"Control\"}, is_dCt = False)\n",
    "    tmp_df.insert(tmp_df.shape[1], \"plate\", \"Trial \" + str(plate_n))\n",
    "    \n",
    "    fig2b_plot_df = tmp_df if plate_n == 1 else pd.concat((fig2b_plot_df, tmp_df), axis=0, ignore_index = True)\n",
    "    plate_n += 1\n",
    "\n",
    "fig2b_plot_df.insert(fig2b_plot_df.shape[1], \"step_plate\", fig2b_plot_df.step + fig2b_plot_df.plate)    \n",
    "fig2b_plot_df.head()"
   ]
  },
  {
   "cell_type": "code",
   "execution_count": 7,
   "metadata": {},
   "outputs": [
    {
     "name": "stdout",
     "output_type": "stream",
     "text": [
      "Trial 1:\n",
      "Wilcoxon test paired samples (pre/post refrigeration) pval = 0.215674, adj_pval = 0.431349\n",
      "MW test (post fridge/control) pval = 0.554632, adj_pval = 1.000000\n",
      "Trial 2:\n",
      "Wilcoxon test paired samples (pre/post refrigeration) pval = 0.544590, adj_pval = 1.000000\n",
      "MW test (post fridge/control) pval = 0.671234, adj_pval = 1.000000\n"
     ]
    }
   ],
   "source": [
    "fig2b_post_control_combos = [(\"ControlTrial \" + str(n), \"Post-Trial \" + str(n)) for n in range(1, len(figdata['fig2b'])+1)]\n",
    "\n",
    "# 1-sample Wilcoxon test to check for difference between pre and post refrigeration\n",
    "# 2-sample Mann-Whitney to check for difference between post-refrigeration and control. Check if C_t of post-refrigeration is greater than that of control indicating RNA loss\n",
    "pvals_pre_post = []\n",
    "for plate in figdata['fig2b']:\n",
    "    pvals_pre_post.append(scipy.stats.wilcoxon(x = plate.get_d_or_ddCt('p1_post_refrigeration', 'p1_pre_refrigeration', is_ddCt = False)).pvalue)\n",
    "\n",
    "pvals_pre_post_adj = multitest.multipletests(pvals_pre_post, method = 'bonferroni')\n",
    "pvals_post_control, pvals_post_control_adj = test_and_adj(fig2b_post_control_combos, fig2b_plot_df, \"step_plate\", \"val\", alternative = \"less\", use_ttest = False) \n",
    "\n",
    "for plate_n in range(len(figdata['fig2b'])):\n",
    "    print(\"Trial %d:\" % (plate_n +1))\n",
    "    print(\"Wilcoxon test paired samples (pre/post refrigeration) pval = %f, adj_pval = %f\" % (pvals_pre_post[plate_n], pvals_pre_post_adj[1][plate_n]))\n",
    "    print(\"MW test (post fridge/control) pval = %f, adj_pval = %f\" % (list(pvals_post_control.values())[plate_n], pvals_post_control_adj[1][plate_n]))"
   ]
  },
  {
   "cell_type": "code",
   "execution_count": 8,
   "metadata": {},
   "outputs": [
    {
     "data": {
      "image/png": "[encoded data removed]",
      "text/plain": [
       "<Figure size 432x288 with 4 Axes>"
      ]
     },
     "metadata": {
      "needs_background": "light"
     },
     "output_type": "display_data"
    }
   ],
   "source": [
    "fig, ax = plt.subplots(2,2, sharex = 'col')\n",
    "\n",
    "plate_n = 0\n",
    "for plate in figdata['fig2b']:\n",
    "    sns.violinplot(x = 'step', y = 'val', data = fig2b_plot_df.loc[fig2b_plot_df.plate == \"Trial \" + str(plate_n+1)], inner = 'stick', palette = 'Paired', ax = ax[plate_n, 0])\n",
    "    ax[plate_n, 0].set_ylabel(r\"$C_t$\")\n",
    "    ax[plate_n, 0].set_xlabel(\"\")\n",
    "    \n",
    "    ax[plate_n, 1].hist(plate.get_d_or_ddCt('p1_post_refrigeration', 'p1_pre_refrigeration', is_ddCt = False), color = '#525252', rwidth = 0.75)\n",
    "    ax[plate_n, 1].set_ylabel(\"N Samples\")\n",
    "    ax[plate_n, 1].set_xlim([-1, 1])\n",
    "    \n",
    "    if plate_n == 1:\n",
    "        ax[plate_n, 1].set_xlabel(r\"$\\Delta C_t = C_t$(Post) - $C_t $(Pre)\")\n",
    "    plate_n += 1\n",
    "\n",
    "fig.tight_layout()\n",
    "\n",
    "plt.savefig(\"../figs/fig_subparts/fig2/fig2b.pdf\", bbox_inches='tight', transparent = True, dpi = 300)"
   ]
  },
  {
   "cell_type": "markdown",
   "metadata": {},
   "source": [
    "# 2C\n",
    "* XC"
   ]
  },
  {
   "cell_type": "code",
   "execution_count": 9,
   "metadata": {},
   "outputs": [
    {
     "data": {
      "text/html": [
       "<div>\n",
       "<style scoped>\n",
       "    .dataframe tbody tr th:only-of-type {\n",
       "        vertical-align: middle;\n",
       "    }\n",
       "\n",
       "    .dataframe tbody tr th {\n",
       "        vertical-align: top;\n",
       "    }\n",
       "\n",
       "    .dataframe thead th {\n",
       "        text-align: right;\n",
       "    }\n",
       "</style>\n",
       "<table border=\"1\" class=\"dataframe\">\n",
       "  <thead>\n",
       "    <tr style=\"text-align: right;\">\n",
       "      <th></th>\n",
       "      <th>val</th>\n",
       "      <th>step</th>\n",
       "      <th>is_pc</th>\n",
       "    </tr>\n",
       "  </thead>\n",
       "  <tbody>\n",
       "    <tr>\n",
       "      <th>0</th>\n",
       "      <td>36.490250</td>\n",
       "      <td>Trial 1</td>\n",
       "      <td>False</td>\n",
       "    </tr>\n",
       "    <tr>\n",
       "      <th>1</th>\n",
       "      <td>NaN</td>\n",
       "      <td>Trial 1</td>\n",
       "      <td>False</td>\n",
       "    </tr>\n",
       "    <tr>\n",
       "      <th>2</th>\n",
       "      <td>37.005196</td>\n",
       "      <td>Trial 1</td>\n",
       "      <td>False</td>\n",
       "    </tr>\n",
       "    <tr>\n",
       "      <th>3</th>\n",
       "      <td>38.027368</td>\n",
       "      <td>Trial 1</td>\n",
       "      <td>False</td>\n",
       "    </tr>\n",
       "    <tr>\n",
       "      <th>4</th>\n",
       "      <td>35.065325</td>\n",
       "      <td>Trial 1</td>\n",
       "      <td>False</td>\n",
       "    </tr>\n",
       "  </tbody>\n",
       "</table>\n",
       "</div>"
      ],
      "text/plain": [
       "         val     step  is_pc\n",
       "0  36.490250  Trial 1  False\n",
       "1        NaN  Trial 1  False\n",
       "2  37.005196  Trial 1  False\n",
       "3  38.027368  Trial 1  False\n",
       "4  35.065325  Trial 1  False"
      ]
     },
     "execution_count": 9,
     "metadata": {},
     "output_type": "execute_result"
    }
   ],
   "source": [
    "plate_n = 1\n",
    "for plate in figdata['fig2c']:\n",
    "    tmp_df = plate.get_plotting_df({'ntc_xc' : \"Trial \" + str(plate_n)}, only_detected = False, is_dCt = False)\n",
    "    pc = plate.get_plotting_df({'pc' : \"Trial \" + str(plate_n)}, only_detected = False, is_dCt = False)\n",
    "\n",
    "    pc.insert(pc.shape[1], \"is_pc\", True)\n",
    "    tmp_df.insert(tmp_df.shape[1], \"is_pc\", False)\n",
    "    tmp_df = pd.concat((tmp_df, pc), axis = 0, ignore_index = True)\n",
    "        \n",
    "    fig2c_plot_df = tmp_df if plate_n == 1 else pd.concat((fig2c_plot_df, tmp_df), axis=0, ignore_index = True)\n",
    "    plate_n += 1\n",
    "\n",
    "fig2c_plot_df = pd.concat((fig2c_plot_df, pd.DataFrame({'val' : all_ntc, 'step' : 'NTC', 'is_pc' : False})), axis = 0, ignore_index=True)\n",
    "fig2c_plot_df.head()"
   ]
  },
  {
   "cell_type": "code",
   "execution_count": 10,
   "metadata": {},
   "outputs": [
    {
     "name": "stdout",
     "output_type": "stream",
     "text": [
      "For trial 3, MW-test to check for difference between known NTC and NTCs that went through pipeline: pval = 0.084048, pval_adj = 0.168096\n",
      "For trial 3, MW-test to check for difference between known NTC and NTCs that went through pipeline: pval = 0.050265, pval_adj = 0.100531\n"
     ]
    }
   ],
   "source": [
    "fig2c_combos = [(\"NTC\", \"Trial \" + str(n)) for n in range(1, len(figdata[\"fig2c\"]) + 1)]\n",
    "pvals_xc, pvals_xc_adj = test_and_adj(fig2c_combos, fig2c_plot_df, \"step\", \"val\", \"greater\", use_ttest = False)\n",
    "\n",
    "i = 0\n",
    "for trial_combo, pval in pvals_xc.items():\n",
    "    print(\"For trial %d, MW-test to check for difference between known NTC and NTCs that went through pipeline: pval = %f, pval_adj = %f\" % (plate_n, pval, pvals_xc_adj[1][i]))\n",
    "    i += 1"
   ]
  },
  {
   "cell_type": "code",
   "execution_count": 11,
   "metadata": {},
   "outputs": [
    {
     "data": {
      "text/plain": [
       "<matplotlib.legend.Legend at 0x7f85d2537ac8>"
      ]
     },
     "execution_count": 11,
     "metadata": {},
     "output_type": "execute_result"
    },
    {
     "data": {
      "image/png": "[encoded data removed]",
      "text/plain": [
       "<Figure size 108x115.2 with 1 Axes>"
      ]
     },
     "metadata": {
      "needs_background": "light"
     },
     "output_type": "display_data"
    }
   ],
   "source": [
    "colors_2c = ['#fdb863', '#e66101', '#b2df8a']\n",
    "plt.figure(figsize = (1.5, 1.6))\n",
    "\n",
    "sns.boxplot(x = 'step', y = 'val', data = fig2c_plot_df.loc[~(fig2c_plot_df.is_pc)], fliersize = 2, palette = colors_2c)\n",
    "sns.scatterplot(x = 'step', y = 'val', size = 1, data = fig2c_plot_df.loc[(fig2c_plot_df.is_pc)], sizes = (30,30), color = '#99000d', legend = False, label = \"PC\")\n",
    "plt.tick_params('x', labelrotation=90)\n",
    "plt.xlabel(\"\")\n",
    "plt.ylabel(r\"$C_t$\")\n",
    "plt.legend(loc=\"upper right\", ncol=1, frameon=0,bbox_to_anchor=(1.1, 1.25))\n",
    "plt.savefig(\"../figs/fig_subparts/fig2/fig2c_right.pdf\", bbox_inches='tight', transparent = True, dpi = 300)"
   ]
  },
  {
   "cell_type": "markdown",
   "metadata": {},
   "source": [
    "# 2D\n",
    "* Comparison of manual to semi-auto"
   ]
  },
  {
   "cell_type": "code",
   "execution_count": 12,
   "metadata": {},
   "outputs": [
    {
     "data": {
      "text/html": [
       "<div>\n",
       "<style scoped>\n",
       "    .dataframe tbody tr th:only-of-type {\n",
       "        vertical-align: middle;\n",
       "    }\n",
       "\n",
       "    .dataframe tbody tr th {\n",
       "        vertical-align: top;\n",
       "    }\n",
       "\n",
       "    .dataframe thead th {\n",
       "        text-align: right;\n",
       "    }\n",
       "</style>\n",
       "<table border=\"1\" class=\"dataframe\">\n",
       "  <thead>\n",
       "    <tr style=\"text-align: right;\">\n",
       "      <th></th>\n",
       "      <th>val</th>\n",
       "      <th>step</th>\n",
       "      <th>group</th>\n",
       "    </tr>\n",
       "  </thead>\n",
       "  <tbody>\n",
       "    <tr>\n",
       "      <th>0</th>\n",
       "      <td>0.666741</td>\n",
       "      <td>Manual Trial 1</td>\n",
       "      <td>Manual</td>\n",
       "    </tr>\n",
       "    <tr>\n",
       "      <th>1</th>\n",
       "      <td>1.176370</td>\n",
       "      <td>Manual Trial 1</td>\n",
       "      <td>Manual</td>\n",
       "    </tr>\n",
       "    <tr>\n",
       "      <th>2</th>\n",
       "      <td>0.899638</td>\n",
       "      <td>Manual Trial 1</td>\n",
       "      <td>Manual</td>\n",
       "    </tr>\n",
       "    <tr>\n",
       "      <th>3</th>\n",
       "      <td>1.279530</td>\n",
       "      <td>Manual Trial 1</td>\n",
       "      <td>Manual</td>\n",
       "    </tr>\n",
       "    <tr>\n",
       "      <th>4</th>\n",
       "      <td>1.114286</td>\n",
       "      <td>Manual Trial 1</td>\n",
       "      <td>Manual</td>\n",
       "    </tr>\n",
       "  </tbody>\n",
       "</table>\n",
       "</div>"
      ],
      "text/plain": [
       "        val            step   group\n",
       "0  0.666741  Manual Trial 1  Manual\n",
       "1  1.176370  Manual Trial 1  Manual\n",
       "2  0.899638  Manual Trial 1  Manual\n",
       "3  1.279530  Manual Trial 1  Manual\n",
       "4  1.114286  Manual Trial 1  Manual"
      ]
     },
     "execution_count": 12,
     "metadata": {},
     "output_type": "execute_result"
    }
   ],
   "source": [
    "fig2d_plot_df = figdata['fig2d'][0].get_plotting_df({'manual1_spiked' : \"Manual Trial 1\", \"manual2_spiked\" : \"Manual Trial 2\", \"manual3_spiked\" : \"Manual Trial 3\",\n",
    "                                                    '0109_spiked' : 'SA Trial 1', '0111_spiked' : 'SA Trial 2', '0115_spiked' : 'SA Trial 3'},\n",
    "                                                   is_dCt = True)\n",
    "\n",
    "fig2d_plot_df.insert(fig2d_plot_df.shape[1], 'group', \"Semi-Automated\")\n",
    "fig2d_plot_df.loc[fig2d_plot_df.step.str.contains(\"Manual\"), \"group\"] = \"Manual\" \n",
    "fig2d_plot_df.head()"
   ]
  },
  {
   "cell_type": "code",
   "execution_count": 13,
   "metadata": {},
   "outputs": [
    {
     "name": "stdout",
     "output_type": "stream",
     "text": [
      "Manual Trial 1 and SA Trial 1: Pval = 6.303100e-06, Adj Pval = 1.008496e-04, Sig = True\n",
      "Manual Trial 1 and SA Trial 2: Pval = 3.302754e-02, Adj Pval = 5.284407e-01, Sig = False\n",
      "Manual Trial 1 and SA Trial 3: Pval = 3.664472e-06, Adj Pval = 5.863156e-05, Sig = True\n",
      "Manual Trial 2 and SA Trial 1: Pval = 1.239634e-04, Adj Pval = 1.983415e-03, Sig = True\n",
      "Manual Trial 2 and SA Trial 2: Pval = 8.860631e-01, Adj Pval = 1.000000e+00, Sig = False\n",
      "Manual Trial 2 and SA Trial 3: Pval = 7.801387e-06, Adj Pval = 1.248222e-04, Sig = True\n",
      "Manual Trial 3 and SA Trial 1: Pval = 7.970753e-01, Adj Pval = 1.000000e+00, Sig = False\n",
      "Manual Trial 3 and SA Trial 2: Pval = 9.999922e-01, Adj Pval = 1.000000e+00, Sig = False\n",
      "Manual Trial 3 and SA Trial 3: Pval = 3.583297e-01, Adj Pval = 1.000000e+00, Sig = False\n",
      "Manual Trial 1 and Manual Trial 2: Pval = 1.938021e-03, Adj Pval = 3.100833e-02, Sig = True\n",
      "Manual Trial 1 and Manual Trial 3: Pval = 4.695528e-04, Adj Pval = 7.512846e-03, Sig = True\n",
      "Manual Trial 2 and Manual Trial 3: Pval = 9.737638e-04, Adj Pval = 1.558022e-02, Sig = True\n",
      "SA Trial 1 and SA Trial 2: Pval = 1.000000e+00, Adj Pval = 1.000000e+00, Sig = False\n",
      "SA Trial 1 and SA Trial 3: Pval = 2.027645e-02, Adj Pval = 3.244232e-01, Sig = False\n",
      "SA Trial 2 and SA Trial 3: Pval = 1.142279e-15, Adj Pval = 1.827646e-14, Sig = True\n",
      "Grouped Manual and Grouped SA: Pval = 6.706571e-03, Adj Pval = 1.073051e-01, Sig = False\n"
     ]
    }
   ],
   "source": [
    "#One-sided Test - Want to know if sig less RNA is recovered via SA technique than manual\n",
    "manual_trials = fig2d_plot_df.loc[fig2d_plot_df.group == \"Manual\"].step.unique()\n",
    "sa_trials = fig2d_plot_df.loc[fig2d_plot_df.group == \"Semi-Automated\"].step.unique()\n",
    "fig2d_combos = list(product(manual_trials, sa_trials)) + list(combinations(manual_trials, 2)) + list(combinations(sa_trials, 2)) +  [(\"Grouped Manual\", \"Grouped SA\")]\n",
    "\n",
    "pvals_2d, pvals_2d_adj = test_and_adj(fig2d_combos, fig2d_plot_df, \"step\", \"val\", \"less\", use_ttest = False)\n",
    "\n",
    "i = 0\n",
    "for trial_combo, pval in pvals_2d.items():\n",
    "    print(\"%s and %s: Pval = %e, Adj Pval = %e, Sig = %s\" % (trial_combo[0], trial_combo[1], pval, pvals_2d_adj[1][i], pvals_2d_adj[0][i]))\n",
    "    i += 1\n",
    "    "
   ]
  },
  {
   "cell_type": "code",
   "execution_count": 14,
   "metadata": {},
   "outputs": [
    {
     "data": {
      "image/png": "[encoded data removed]",
      "text/plain": [
       "<Figure size 432x288 with 2 Axes>"
      ]
     },
     "metadata": {
      "needs_background": "light"
     },
     "output_type": "display_data"
    }
   ],
   "source": [
    "fig, ax = plt.subplots(1, 2)\n",
    "\n",
    "sns.violinplot(x = 'val', y = 'step', hue = 'group', inner = 'stick', data = fig2d_plot_df, palette = 'colorblind', ax = ax[0])\n",
    "ax[0].set_ylabel(\"\")\n",
    "ax[0].set_xlabel(r\"$\\Delta C_t (Sample - PC)$\")\n",
    "ax[0].legend().set_visible(False)\n",
    "sns.violinplot(x = 'group', y = 'val', hue = 'group', inner = 'stick', data = fig2d_plot_df, palette = 'colorblind', ax = ax[1])\n",
    "ax[1].set_xlabel(\"\")\n",
    "ax[1].tick_params('x', labelrotation=90)\n",
    "ax[1].set_ylabel(r\"$\\Delta C_t$ (Sample - PC)\")\n",
    "ax[1].legend().set_visible(False)\n",
    "fig.tight_layout()\n",
    "plt.savefig('../figs/fig_subparts/fig2/fig2d.pdf', bbox_inches = 'tight', transparent = True, dpi = 300)"
   ]
  },
  {
   "cell_type": "markdown",
   "metadata": {},
   "source": [
    "# Supp"
   ]
  },
  {
   "cell_type": "markdown",
   "metadata": {},
   "source": [
    "## Fig 1"
   ]
  },
  {
   "cell_type": "code",
   "execution_count": 26,
   "metadata": {},
   "outputs": [],
   "source": [
    "plate_layout_qc = {10000 : [get_well_list(\"E\", [1]), get_well_list(\"F\", [1]), get_well_list(\"G\", [1])],\n",
    "                   5000 : [get_well_list(\"E\", [2]), get_well_list(\"F\", [2]), get_well_list(\"G\", [2])],\n",
    "                   2500 : [get_well_list(\"E\", [3]), get_well_list(\"F\", [3]), get_well_list(\"G\", [3])],\n",
    "                   1250 : [get_well_list(\"E\", [4]), get_well_list(\"F\", [4]), get_well_list(\"G\", [4])],\n",
    "                   625 : [get_well_list(\"E\", [5]), get_well_list(\"F\", [5]), get_well_list(\"G\", [5])],\n",
    "                   312.5 : [get_well_list(\"E\", [6]), get_well_list(\"F\", [6]), get_well_list(\"G\", [6])],\n",
    "                   156 : [get_well_list(\"E\", [7]), get_well_list(\"F\", [7]), get_well_list(\"G\", [7])],\n",
    "                   78 : [get_well_list(\"E\", [8]), get_well_list(\"F\", [8]), get_well_list(\"G\", [8])],\n",
    "                   39 : [get_well_list(\"E\", [9]), get_well_list(\"F\", [9]), get_well_list(\"G\", [9])],\n",
    "                   19.5 : [get_well_list(\"E\", [10]), get_well_list(\"F\", [10]), get_well_list(\"G\", [10])],\n",
    "                   10 : [get_well_list(\"E\", [11]), get_well_list(\"F\", [11]), get_well_list(\"G\", [11])],\n",
    "                   5 : [get_well_list(\"E\", [12]), get_well_list(\"F\", [12]), get_well_list(\"G\", [12])],\n",
    "                          }\n",
    "\n",
    "supp_fig1 = qpcr_plate(read_qpcr_data(\"../data/supp_ERCC54_oligoQC_100118.xlsx\"), plate_layout_qc)"
   ]
  },
  {
   "cell_type": "code",
   "execution_count": 27,
   "metadata": {},
   "outputs": [],
   "source": [
    "pg = np.array(list(supp_fig1.data.keys()))\n",
    "ct = np.array(list(supp_fig1.data.values()))[:, 0] \n",
    "lin_fit = np.poly1d(np.polyfit(np.log2(pg), ct, deg=1))"
   ]
  },
  {
   "cell_type": "code",
   "execution_count": 28,
   "metadata": {},
   "outputs": [
    {
     "name": "stderr",
     "output_type": "stream",
     "text": [
      "/Users/miramou/miniconda3/envs/gen_comp/lib/python3.6/site-packages/ipykernel_launcher.py:8: MatplotlibDeprecationWarning: The 'basex' parameter of __init__() has been renamed 'base' since Matplotlib 3.3; support for the old name will be dropped two minor releases later.\n",
      "  \n"
     ]
    },
    {
     "data": {
      "text/plain": [
       "Text(0.5, 0, 'Oligo (pg)')"
      ]
     },
     "execution_count": 28,
     "metadata": {},
     "output_type": "execute_result"
    },
    {
     "data": {
      "image/png": "[encoded data removed]",
      "text/plain": [
       "<Figure size 432x288 with 2 Axes>"
      ]
     },
     "metadata": {
      "needs_background": "light"
     },
     "output_type": "display_data"
    }
   ],
   "source": [
    "plt.figure()\n",
    "plt.subplot(121)\n",
    "plt.scatter(pg, ct, color = 'k')\n",
    "plt.plot(pg, ct, color = 'k')\n",
    "plt.xlabel(\"Oligo (pg)\")\n",
    "plt.ylabel(\"Cycle threshold\")\n",
    "ax = plt.subplot(122)\n",
    "ax.set_xscale('log', basex=2)\n",
    "plt.scatter(pg, ct, color = 'k')\n",
    "plt.plot(pg, lin_fit(np.log2(pg)), color = 'k')\n",
    "plt.xlabel(\"Oligo (pg)\")\n",
    "#plt.savefig(\"fig_subparts/supp/supp1.pdf\", transparent = True, bbox_inches = 'tight')"
   ]
  }
 ],
 "metadata": {
  "kernelspec": {
   "display_name": "Python [conda env:gen_comp]",
   "language": "python",
   "name": "conda-env-gen_comp-py"
  },
  "language_info": {
   "codemirror_mode": {
    "name": "ipython",
    "version": 3
   },
   "file_extension": ".py",
   "mimetype": "text/x-python",
   "name": "python",
   "nbconvert_exporter": "python",
   "pygments_lexer": "ipython3",
   "version": "3.6.10"
  }
 },
 "nbformat": 4,
 "nbformat_minor": 2
}
