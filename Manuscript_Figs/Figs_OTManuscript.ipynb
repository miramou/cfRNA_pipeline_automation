{
 "cells": [
  {
   "cell_type": "code",
   "execution_count": 1,
   "metadata": {},
   "outputs": [],
   "source": [
    "from util.gen_utils import *\n",
    "from util.read_qpcr_plate_class import *\n",
    "\n",
    "import matplotlib\n",
    "import matplotlib.pyplot as plt\n",
    "import scipy.stats\n",
    "from statsmodels.stats import multitest\n",
    "import seaborn as sns\n",
    "\n",
    "%load_ext autoreload\n",
    "%autoreload 2"
   ]
  },
  {
   "cell_type": "code",
   "execution_count": 2,
   "metadata": {},
   "outputs": [],
   "source": [
    "#Set fig export settings\n",
    "\n",
    "#For editable text. Except latex text is still shapes sadly\n",
    "matplotlib.rcParams['pdf.fonttype'] = 42\n",
    "matplotlib.rcParams['ps.fonttype'] = 42\n",
    "\n",
    "sns.set_style(\"whitegrid\")\n",
    "font = {'size' : 5}\n",
    "lines = {'linewidth' : 0.5}\n",
    "fig = {'figsize' : (2.5, 1.5)}\n",
    "\n",
    "matplotlib.rc('font', **font)\n",
    "matplotlib.rc('lines', **lines)\n",
    "matplotlib.rc('figure', **fig)\n",
    "\n",
    "%matplotlib inline"
   ]
  },
  {
   "cell_type": "markdown",
   "metadata": {},
   "source": [
    "# Figure 2 "
   ]
  },
  {
   "cell_type": "markdown",
   "metadata": {},
   "source": [
    "## Load data\n",
    "4 independent experiments that fully run through the semi-automated pipeline. Results quantified in 5 qPCR plates. \n",
    "Each experiment laid out samples in a checkerboard pattern to quantify cross-contamination in addition to measuring end-point RNA rescue \n",
    "\n",
    "* Load in class defined for qPCR plate. \n",
    "* For each plate specify which wells correspond to which condition in plate layout. The length of each value in plate layout indicates the number of technical replicates. "
   ]
  },
  {
   "cell_type": "code",
   "execution_count": 3,
   "metadata": {},
   "outputs": [],
   "source": [
    "#Fig 2B data\n",
    "plate_layout_fig2b_1215 = {'p1_pre_refrigeration' : [get_well_list(\"ABCDEFGH\", np.arange(1,13,2)),\n",
    "                                get_well_list(\"ABCDEFGH\", np.arange(2,13,2))],\n",
    "                     'p1_post_refrigeration' : [get_well_list(\"ABCDEFGH\", np.arange(13,25,2)),\n",
    "                                get_well_list(\"ABCDEFGH\", np.arange(14,25,2))],\n",
    "                     'p2' : [get_well_list(\"IKMO\", np.arange(3,13,4)) + get_well_list(\"JLNP\", np.arange(1,13,4)), \n",
    "                                get_well_list(\"IKMO\", np.arange(4,13,4)) + get_well_list(\"JLNP\", np.arange(2,13,4))],\n",
    "                     'pc' : [[(\"I\", 17)], [(\"I\", 18)]], 'ntc' : [[(\"I\", 19)], [(\"I\", 20)]]}\n",
    "\n",
    "plate_layout_fig2b_0109 = {'p1_pre_refrigeration' : [get_well_list(\"ACEG\", np.arange(1,13,4)) + get_well_list(\"BDFH\", np.arange(3,13,4)), \n",
    "                                get_well_list(\"ACEG\", np.arange(2,13,4)) + get_well_list(\"BDFH\", np.arange(4,13,4))],\n",
    "                     'p1_post_refrigeration' : [get_well_list(\"ACEG\", np.arange(13,25,4)) + get_well_list(\"BDFH\", np.arange(15,25,4)), \n",
    "                                get_well_list(\"ACEG\", np.arange(14,25,4)) + get_well_list(\"BDFH\", np.arange(16,25,4))],\n",
    "                     'p2' : [get_well_list(\"IKMO\", np.arange(1,13,4)) + get_well_list(\"JLNP\", np.arange(3,13,4)), \n",
    "                                get_well_list(\"IKMO\", np.arange(2,13,4)) + get_well_list(\"JLNP\", np.arange(4,13,4))],\n",
    "                     'pc' : [[(\"I\", 17)], [(\"I\", 18)]], 'ntc' : [[(\"I\", 19)], [(\"I\", 20)]]}\n",
    "\n",
    "#Fig 2C data layout\n",
    "plate_layout_fig2c_0111_0115 = {'spiked' :  [get_well_list(\"ACEG\", np.arange(1,25,4)) + get_well_list(\"BDFH\", np.arange(3, 25, 4)), \n",
    "                                      get_well_list(\"ACEG\", np.arange(2,25,4)) + get_well_list(\"BDFH\", np.arange(4, 25, 4))],\n",
    "                            'ntc_xc' : [get_well_list(\"ACEG\", np.arange(3,25,4)) + get_well_list(\"BDFH\", np.arange(1, 25, 4)), \n",
    "                                      get_well_list(\"ACEG\", np.arange(4,25,4)) + get_well_list(\"BDFH\", np.arange(2, 25, 4))],\n",
    "                          'pc' : [[(\"I\", 5)], [(\"I\", 6)]], 'ntc' : [[(\"I\", 7)], [(\"I\", 8)]]}\n",
    "\n",
    "#Fig 2D data layout\n",
    "plate_layout_fig2d_0116 = {'0109_spiked' : [get_well_list(\"ACEG\", np.arange(1,25,4)) + get_well_list(\"BDFH\", np.arange(3,25,4))],\n",
    "                            '0111_spiked' : [get_well_list(\"ACEG\", np.arange(2,25,4)) + get_well_list(\"BDFH\", np.arange(4,25,4))],\n",
    "                            '0115_spiked' : [get_well_list(\"IKMO\", np.arange(1,25,4)) + get_well_list(\"JLNP\", np.arange(3,25,4))],\n",
    "                            'manual1_spiked' : [get_well_list(\"I\", np.arange(2,17, 2))],\n",
    "                            'manual2_spiked' : [get_well_list(\"J\", np.arange(2,17, 2))],\n",
    "                            'manual3_spiked' : [get_well_list(\"K\", np.arange(2,17, 2))],\n",
    "                            'pc' : [[(\"I\", 18)], [(\"J\", 18)], [(\"K\", 18)]],\n",
    "                            'ntc' : [[(\"L\", 18)], [(\"M\", 18)]]\n",
    "                          }"
   ]
  },
  {
   "cell_type": "code",
   "execution_count": 4,
   "metadata": {},
   "outputs": [
    {
     "name": "stderr",
     "output_type": "stream",
     "text": [
      "/Users/miramou/Documents/Grad/Lab/Manuscripts/OT/figs/util/read_qpcr_plate_class.py:35: RuntimeWarning: Mean of empty slice\n",
      "  self.data[label] = np.nanmean(self.data_tech_reps[label], axis=1) #if (has_non_nans and not_empty) else np.nan\n",
      "/Users/miramou/miniconda3/envs/gen_comp/lib/python3.6/site-packages/numpy/lib/nanfunctions.py:1665: RuntimeWarning: Degrees of freedom <= 0 for slice.\n",
      "  keepdims=keepdims)\n"
     ]
    }
   ],
   "source": [
    "#Load data\n",
    "ntc_vals = []\n",
    "figdata = {}\n",
    "\n",
    "figdata['fig2b'] = [qpcr_plate(read_qpcr_data(\"../data/fig2/fig2B_121518.xlsx\"), plate_layout_fig2b_1215), \n",
    "                    qpcr_plate(read_qpcr_data(\"../data/fig2/fig2B_010919.xlsx\"), plate_layout_fig2b_0109)]\n",
    "\n",
    "figdata['fig2c'] = [qpcr_plate(read_qpcr_data(\"../data/fig2/fig2C_011119.xlsx\"), plate_layout_fig2c_0111_0115),\n",
    "                    qpcr_plate(read_qpcr_data(\"../data/fig2/fig2C_011519.xlsx\"), plate_layout_fig2c_0111_0115)]\n",
    "\n",
    "figdata['fig2d'] = [qpcr_plate(read_qpcr_data(\"../data/fig2/fig2D_FullComparison.xlsx\"), plate_layout_fig2d_0116)] #Only 1 tech rep per well for this layout\n",
    "\n",
    "figdata['ntc'] = [qpcr_plate(read_qpcr_data(\"../data/supp_ERCC54_oligoQC_100118.xlsx\"), {'ntc' : [get_well_list(\"H\", np.arange(1,13))]})]"
   ]
  },
  {
   "cell_type": "code",
   "execution_count": 5,
   "metadata": {},
   "outputs": [],
   "source": [
    "min_ntc, all_ntc = get_min_ntc_axs_plates(figdata)\n",
    "figdata = update_detection_mask(figdata, min_ntc)"
   ]
  },
  {
   "cell_type": "markdown",
   "metadata": {},
   "source": [
    "## 2B"
   ]
  },
  {
   "cell_type": "code",
   "execution_count": 6,
   "metadata": {},
   "outputs": [
    {
     "data": {
      "text/html": [
       "<div>\n",
       "<style scoped>\n",
       "    .dataframe tbody tr th:only-of-type {\n",
       "        vertical-align: middle;\n",
       "    }\n",
       "\n",
       "    .dataframe tbody tr th {\n",
       "        vertical-align: top;\n",
       "    }\n",
       "\n",
       "    .dataframe thead th {\n",
       "        text-align: right;\n",
       "    }\n",
       "</style>\n",
       "<table border=\"1\" class=\"dataframe\">\n",
       "  <thead>\n",
       "    <tr style=\"text-align: right;\">\n",
       "      <th></th>\n",
       "      <th>val</th>\n",
       "      <th>step</th>\n",
       "      <th>plate</th>\n",
       "      <th>step_plate</th>\n",
       "    </tr>\n",
       "  </thead>\n",
       "  <tbody>\n",
       "    <tr>\n",
       "      <th>0</th>\n",
       "      <td>23.372991</td>\n",
       "      <td>Pre-</td>\n",
       "      <td>Trial 1</td>\n",
       "      <td>Pre-Trial 1</td>\n",
       "    </tr>\n",
       "    <tr>\n",
       "      <th>1</th>\n",
       "      <td>20.332667</td>\n",
       "      <td>Pre-</td>\n",
       "      <td>Trial 1</td>\n",
       "      <td>Pre-Trial 1</td>\n",
       "    </tr>\n",
       "    <tr>\n",
       "      <th>2</th>\n",
       "      <td>20.552727</td>\n",
       "      <td>Pre-</td>\n",
       "      <td>Trial 1</td>\n",
       "      <td>Pre-Trial 1</td>\n",
       "    </tr>\n",
       "    <tr>\n",
       "      <th>3</th>\n",
       "      <td>19.906238</td>\n",
       "      <td>Pre-</td>\n",
       "      <td>Trial 1</td>\n",
       "      <td>Pre-Trial 1</td>\n",
       "    </tr>\n",
       "    <tr>\n",
       "      <th>4</th>\n",
       "      <td>19.633207</td>\n",
       "      <td>Pre-</td>\n",
       "      <td>Trial 1</td>\n",
       "      <td>Pre-Trial 1</td>\n",
       "    </tr>\n",
       "  </tbody>\n",
       "</table>\n",
       "</div>"
      ],
      "text/plain": [
       "         val  step    plate   step_plate\n",
       "0  23.372991  Pre-  Trial 1  Pre-Trial 1\n",
       "1  20.332667  Pre-  Trial 1  Pre-Trial 1\n",
       "2  20.552727  Pre-  Trial 1  Pre-Trial 1\n",
       "3  19.906238  Pre-  Trial 1  Pre-Trial 1\n",
       "4  19.633207  Pre-  Trial 1  Pre-Trial 1"
      ]
     },
     "execution_count": 6,
     "metadata": {},
     "output_type": "execute_result"
    }
   ],
   "source": [
    "plate_n = 1\n",
    "for plate in figdata['fig2b']:\n",
    "    tmp_df = plate.get_plotting_df({'p1_pre_refrigeration' : \"Pre-\", \n",
    "                                    'p1_post_refrigeration' : \"Post-\", \n",
    "                                    'p2' : \"Control\"}, is_dCt = False)\n",
    "    tmp_df.insert(tmp_df.shape[1], \"plate\", \"Trial \" + str(plate_n))\n",
    "    \n",
    "    fig2b_plot_df = tmp_df if plate_n == 1 else pd.concat((fig2b_plot_df, tmp_df), axis=0, ignore_index = True)\n",
    "    plate_n += 1\n",
    "\n",
    "fig2b_plot_df.insert(fig2b_plot_df.shape[1], \"step_plate\", fig2b_plot_df.step + fig2b_plot_df.plate)    \n",
    "fig2b_plot_df.head()"
   ]
  },
  {
   "cell_type": "code",
   "execution_count": 7,
   "metadata": {},
   "outputs": [
    {
     "name": "stdout",
     "output_type": "stream",
     "text": [
      "Trial 1:\n",
      "Wilcoxon test paired samples (pre/post refrigeration) pval = 0.215674, adj_pval = 0.431349\n",
      "MW test (post fridge/control) pval = 0.554632, adj_pval = 1.000000\n",
      "Trial 2:\n",
      "Wilcoxon test paired samples (pre/post refrigeration) pval = 0.544590, adj_pval = 1.000000\n",
      "MW test (post fridge/control) pval = 0.671234, adj_pval = 1.000000\n"
     ]
    }
   ],
   "source": [
    "fig2b_post_control_combos = [(\"ControlTrial \" + str(n), \"Post-Trial \" + str(n)) for n in range(1, len(figdata['fig2b'])+1)]\n",
    "\n",
    "# 1-sample Wilcoxon test to check for difference between pre and post refrigeration\n",
    "# 2-sample Mann-Whitney to check for difference between post-refrigeration and control. Check if C_t of post-refrigeration is greater than that of control indicating RNA loss\n",
    "pvals_pre_post = []\n",
    "for plate in figdata['fig2b']:\n",
    "    pvals_pre_post.append(scipy.stats.wilcoxon(x = plate.get_d_or_ddCt('p1_post_refrigeration', 'p1_pre_refrigeration', is_ddCt = False)).pvalue)\n",
    "\n",
    "pvals_pre_post_adj = multitest.multipletests(pvals_pre_post, method = 'bonferroni')\n",
    "pvals_post_control, pvals_post_control_adj = test_and_adj(fig2b_post_control_combos, fig2b_plot_df, \"step_plate\", \"val\", alternative = \"less\", use_ttest = False) \n",
    "\n",
    "for plate_n in range(len(figdata['fig2b'])):\n",
    "    print(\"Trial %d:\" % (plate_n +1))\n",
    "    print(\"Wilcoxon test paired samples (pre/post refrigeration) pval = %f, adj_pval = %f\" % (pvals_pre_post[plate_n], pvals_pre_post_adj[1][plate_n]))\n",
    "    print(\"MW test (post fridge/control) pval = %f, adj_pval = %f\" % (list(pvals_post_control.values())[plate_n], pvals_post_control_adj[1][plate_n]))"
   ]
  },
  {
   "cell_type": "code",
   "execution_count": 8,
   "metadata": {},
   "outputs": [
    {
     "data": {
      "image/png": "[encoded data removed]",
      "text/plain": [
       "<Figure size 432x288 with 4 Axes>"
      ]
     },
     "metadata": {
      "needs_background": "light"
     },
     "output_type": "display_data"
    }
   ],
   "source": [
    "fig, ax = plt.subplots(2,2, sharex = 'col')\n",
    "\n",
    "plate_n = 0\n",
    "for plate in figdata['fig2b']:\n",
    "    sns.violinplot(x = 'step', y = 'val', data = fig2b_plot_df.loc[fig2b_plot_df.plate == \"Trial \" + str(plate_n+1)], inner = 'stick', palette = 'Paired', ax = ax[plate_n, 0])\n",
    "    ax[plate_n, 0].set_ylabel(r\"$C_t$\")\n",
    "    ax[plate_n, 0].set_xlabel(\"\")\n",
    "    \n",
    "    ax[plate_n, 1].hist(plate.get_d_or_ddCt('p1_post_refrigeration', 'p1_pre_refrigeration', is_ddCt = False), color = '#525252', rwidth = 0.75)\n",
    "    ax[plate_n, 1].set_ylabel(\"N Samples\")\n",
    "    ax[plate_n, 1].set_xlim([-1, 1])\n",
    "    \n",
    "    if plate_n == 1:\n",
    "        ax[plate_n, 1].set_xlabel(r\"$\\Delta C_t = C_t$(Post) - $C_t $(Pre)\")\n",
    "    plate_n += 1\n",
    "\n",
    "fig.tight_layout()\n",
    "\n",
    "plt.savefig(\"../figs/fig_subparts/fig2/fig2b.pdf\", bbox_inches='tight', transparent = True, dpi = 300)"
   ]
  },
  {
   "cell_type": "markdown",
   "metadata": {},
   "source": [
    "# 2C\n",
    "* XC"
   ]
  },
  {
   "cell_type": "code",
   "execution_count": 9,
   "metadata": {},
   "outputs": [
    {
     "data": {
      "text/html": [
       "<div>\n",
       "<style scoped>\n",
       "    .dataframe tbody tr th:only-of-type {\n",
       "        vertical-align: middle;\n",
       "    }\n",
       "\n",
       "    .dataframe tbody tr th {\n",
       "        vertical-align: top;\n",
       "    }\n",
       "\n",
       "    .dataframe thead th {\n",
       "        text-align: right;\n",
       "    }\n",
       "</style>\n",
       "<table border=\"1\" class=\"dataframe\">\n",
       "  <thead>\n",
       "    <tr style=\"text-align: right;\">\n",
       "      <th></th>\n",
       "      <th>val</th>\n",
       "      <th>step</th>\n",
       "      <th>is_pc</th>\n",
       "    </tr>\n",
       "  </thead>\n",
       "  <tbody>\n",
       "    <tr>\n",
       "      <th>0</th>\n",
       "      <td>36.490250</td>\n",
       "      <td>Trial 1</td>\n",
       "      <td>False</td>\n",
       "    </tr>\n",
       "    <tr>\n",
       "      <th>1</th>\n",
       "      <td>NaN</td>\n",
       "      <td>Trial 1</td>\n",
       "      <td>False</td>\n",
       "    </tr>\n",
       "    <tr>\n",
       "      <th>2</th>\n",
       "      <td>37.005196</td>\n",
       "      <td>Trial 1</td>\n",
       "      <td>False</td>\n",
       "    </tr>\n",
       "    <tr>\n",
       "      <th>3</th>\n",
       "      <td>38.027368</td>\n",
       "      <td>Trial 1</td>\n",
       "      <td>False</td>\n",
       "    </tr>\n",
       "    <tr>\n",
       "      <th>4</th>\n",
       "      <td>35.065325</td>\n",
       "      <td>Trial 1</td>\n",
       "      <td>False</td>\n",
       "    </tr>\n",
       "  </tbody>\n",
       "</table>\n",
       "</div>"
      ],
      "text/plain": [
       "         val     step  is_pc\n",
       "0  36.490250  Trial 1  False\n",
       "1        NaN  Trial 1  False\n",
       "2  37.005196  Trial 1  False\n",
       "3  38.027368  Trial 1  False\n",
       "4  35.065325  Trial 1  False"
      ]
     },
     "execution_count": 9,
     "metadata": {},
     "output_type": "execute_result"
    }
   ],
   "source": [
    "plate_n = 1\n",
    "for plate in figdata['fig2c']:\n",
    "    tmp_df = plate.get_plotting_df({'ntc_xc' : \"Trial \" + str(plate_n)}, only_detected = False, is_dCt = False)\n",
    "    pc = plate.get_plotting_df({'pc' : \"Trial \" + str(plate_n)}, only_detected = False, is_dCt = False)\n",
    "\n",
    "    pc.insert(pc.shape[1], \"is_pc\", True)\n",
    "    tmp_df.insert(tmp_df.shape[1], \"is_pc\", False)\n",
    "    tmp_df = pd.concat((tmp_df, pc), axis = 0, ignore_index = True)\n",
    "        \n",
    "    fig2c_plot_df = tmp_df if plate_n == 1 else pd.concat((fig2c_plot_df, tmp_df), axis=0, ignore_index = True)\n",
    "    plate_n += 1\n",
    "\n",
    "fig2c_plot_df = pd.concat((fig2c_plot_df, pd.DataFrame({'val' : all_ntc, 'step' : 'NTC', 'is_pc' : False})), axis = 0, ignore_index=True)\n",
    "fig2c_plot_df.head()"
   ]
  },
  {
   "cell_type": "code",
   "execution_count": 10,
   "metadata": {},
   "outputs": [
    {
     "name": "stdout",
     "output_type": "stream",
     "text": [
      "For trial 3, MW-test to check for difference between known NTC and NTCs that went through pipeline: pval = 0.084048, pval_adj = 0.168096\n",
      "For trial 3, MW-test to check for difference between known NTC and NTCs that went through pipeline: pval = 0.050265, pval_adj = 0.100531\n"
     ]
    }
   ],
   "source": [
    "fig2c_combos = [(\"NTC\", \"Trial \" + str(n)) for n in range(1, len(figdata[\"fig2c\"]) + 1)]\n",
    "pvals_xc, pvals_xc_adj = test_and_adj(fig2c_combos, fig2c_plot_df, \"step\", \"val\", \"greater\", use_ttest = False)\n",
    "\n",
    "i = 0\n",
    "for trial_combo, pval in pvals_xc.items():\n",
    "    print(\"For trial %d, MW-test to check for difference between known NTC and NTCs that went through pipeline: pval = %f, pval_adj = %f\" % (plate_n, pval, pvals_xc_adj[1][i]))\n",
    "    i += 1"
   ]
  },
  {
   "cell_type": "code",
   "execution_count": 11,
   "metadata": {},
   "outputs": [
    {
     "data": {
      "text/plain": [
       "<matplotlib.legend.Legend at 0x7f85d2537ac8>"
      ]
     },
     "execution_count": 11,
     "metadata": {},
     "output_type": "execute_result"
    },
    {
     "data": {
      "image/png": "[encoded data removed]",
      "text/plain": [
       "<Figure size 108x115.2 with 1 Axes>"
      ]
     },
     "metadata": {
      "needs_background": "light"
     },
     "output_type": "display_data"
    }
   ],
   "source": [
    "colors_2c = ['#fdb863', '#e66101', '#b2df8a']\n",
    "plt.figure(figsize = (1.5, 1.6))\n",
    "\n",
    "sns.boxplot(x = 'step', y = 'val', data = fig2c_plot_df.loc[~(fig2c_plot_df.is_pc)], fliersize = 2, palette = colors_2c)\n",
    "sns.scatterplot(x = 'step', y = 'val', size = 1, data = fig2c_plot_df.loc[(fig2c_plot_df.is_pc)], sizes = (30,30), color = '#99000d', legend = False, label = \"PC\")\n",
    "plt.tick_params('x', labelrotation=90)\n",
    "plt.xlabel(\"\")\n",
    "plt.ylabel(r\"$C_t$\")\n",
    "plt.legend(loc=\"upper right\", ncol=1, frameon=0,bbox_to_anchor=(1.1, 1.25))\n",
    "plt.savefig(\"../figs/fig_subparts/fig2/fig2c_right.pdf\", bbox_inches='tight', transparent = True, dpi = 300)"
   ]
  },
  {
   "cell_type": "markdown",
   "metadata": {},
   "source": [
    "# 2D\n",
    "* Comparison of manual to semi-auto"
   ]
  },
  {
   "cell_type": "code",
   "execution_count": 12,
   "metadata": {},
   "outputs": [
    {
     "data": {
      "text/html": [
       "<div>\n",
       "<style scoped>\n",
       "    .dataframe tbody tr th:only-of-type {\n",
       "        vertical-align: middle;\n",
       "    }\n",
       "\n",
       "    .dataframe tbody tr th {\n",
       "        vertical-align: top;\n",
       "    }\n",
       "\n",
       "    .dataframe thead th {\n",
       "        text-align: right;\n",
       "    }\n",
       "</style>\n",
       "<table border=\"1\" class=\"dataframe\">\n",
       "  <thead>\n",
       "    <tr style=\"text-align: right;\">\n",
       "      <th></th>\n",
       "      <th>val</th>\n",
       "      <th>step</th>\n",
       "      <th>group</th>\n",
       "    </tr>\n",
       "  </thead>\n",
       "  <tbody>\n",
       "    <tr>\n",
       "      <th>0</th>\n",
       "      <td>0.666741</td>\n",
       "      <td>Manual Trial 1</td>\n",
       "      <td>Manual</td>\n",
       "    </tr>\n",
       "    <tr>\n",
       "      <th>1</th>\n",
       "      <td>1.176370</td>\n",
       "      <td>Manual Trial 1</td>\n",
       "      <td>Manual</td>\n",
       "    </tr>\n",
       "    <tr>\n",
       "      <th>2</th>\n",
       "      <td>0.899638</td>\n",
       "      <td>Manual Trial 1</td>\n",
       "      <td>Manual</td>\n",
       "    </tr>\n",
       "    <tr>\n",
       "      <th>3</th>\n",
       "      <td>1.279530</td>\n",
       "      <td>Manual Trial 1</td>\n",
       "      <td>Manual</td>\n",
       "    </tr>\n",
       "    <tr>\n",
       "      <th>4</th>\n",
       "      <td>1.114286</td>\n",
       "      <td>Manual Trial 1</td>\n",
       "      <td>Manual</td>\n",
       "    </tr>\n",
       "  </tbody>\n",
       "</table>\n",
       "</div>"
      ],
      "text/plain": [
       "        val            step   group\n",
       "0  0.666741  Manual Trial 1  Manual\n",
       "1  1.176370  Manual Trial 1  Manual\n",
       "2  0.899638  Manual Trial 1  Manual\n",
       "3  1.279530  Manual Trial 1  Manual\n",
       "4  1.114286  Manual Trial 1  Manual"
      ]
     },
     "execution_count": 12,
     "metadata": {},
     "output_type": "execute_result"
    }
   ],
   "source": [
    "fig2d_plot_df = figdata['fig2d'][0].get_plotting_df({'manual1_spiked' : \"Manual Trial 1\", \"manual2_spiked\" : \"Manual Trial 2\", \"manual3_spiked\" : \"Manual Trial 3\",\n",
    "                                                    '0109_spiked' : 'SA Trial 1', '0111_spiked' : 'SA Trial 2', '0115_spiked' : 'SA Trial 3'},\n",
    "                                                   is_dCt = True)\n",
    "\n",
    "fig2d_plot_df.insert(fig2d_plot_df.shape[1], 'group', \"Semi-Automated\")\n",
    "fig2d_plot_df.loc[fig2d_plot_df.step.str.contains(\"Manual\"), \"group\"] = \"Manual\" \n",
    "fig2d_plot_df.head()"
   ]
  },
  {
   "cell_type": "code",
   "execution_count": 13,
   "metadata": {},
   "outputs": [
    {
     "name": "stdout",
     "output_type": "stream",
     "text": [
      "Manual Trial 1 and SA Trial 1: Pval = 6.303100e-06, Adj Pval = 1.008496e-04, Sig = True\n",
      "Manual Trial 1 and SA Trial 2: Pval = 3.302754e-02, Adj Pval = 5.284407e-01, Sig = False\n",
      "Manual Trial 1 and SA Trial 3: Pval = 3.664472e-06, Adj Pval = 5.863156e-05, Sig = True\n",
      "Manual Trial 2 and SA Trial 1: Pval = 1.239634e-04, Adj Pval = 1.983415e-03, Sig = True\n",
      "Manual Trial 2 and SA Trial 2: Pval = 8.860631e-01, Adj Pval = 1.000000e+00, Sig = False\n",
      "Manual Trial 2 and SA Trial 3: Pval = 7.801387e-06, Adj Pval = 1.248222e-04, Sig = True\n",
      "Manual Trial 3 and SA Trial 1: Pval = 7.970753e-01, Adj Pval = 1.000000e+00, Sig = False\n",
      "Manual Trial 3 and SA Trial 2: Pval = 9.999922e-01, Adj Pval = 1.000000e+00, Sig = False\n",
      "Manual Trial 3 and SA Trial 3: Pval = 3.583297e-01, Adj Pval = 1.000000e+00, Sig = False\n",
      "Manual Trial 1 and Manual Trial 2: Pval = 1.938021e-03, Adj Pval = 3.100833e-02, Sig = True\n",
      "Manual Trial 1 and Manual Trial 3: Pval = 4.695528e-04, Adj Pval = 7.512846e-03, Sig = True\n",
      "Manual Trial 2 and Manual Trial 3: Pval = 9.737638e-04, Adj Pval = 1.558022e-02, Sig = True\n",
      "SA Trial 1 and SA Trial 2: Pval = 1.000000e+00, Adj Pval = 1.000000e+00, Sig = False\n",
      "SA Trial 1 and SA Trial 3: Pval = 2.027645e-02, Adj Pval = 3.244232e-01, Sig = False\n",
      "SA Trial 2 and SA Trial 3: Pval = 1.142279e-15, Adj Pval = 1.827646e-14, Sig = True\n",
      "Grouped Manual and Grouped SA: Pval = 6.706571e-03, Adj Pval = 1.073051e-01, Sig = False\n"
     ]
    }
   ],
   "source": [
    "#One-sided Test - Want to know if sig less RNA is recovered via SA technique than manual\n",
    "manual_trials = fig2d_plot_df.loc[fig2d_plot_df.group == \"Manual\"].step.unique()\n",
    "sa_trials = fig2d_plot_df.loc[fig2d_plot_df.group == \"Semi-Automated\"].step.unique()\n",
    "fig2d_combos = list(product(manual_trials, sa_trials)) + list(combinations(manual_trials, 2)) + list(combinations(sa_trials, 2)) +  [(\"Grouped Manual\", \"Grouped SA\")]\n",
    "\n",
    "pvals_2d, pvals_2d_adj = test_and_adj(fig2d_combos, fig2d_plot_df, \"step\", \"val\", \"less\", use_ttest = False)\n",
    "\n",
    "i = 0\n",
    "for trial_combo, pval in pvals_2d.items():\n",
    "    print(\"%s and %s: Pval = %e, Adj Pval = %e, Sig = %s\" % (trial_combo[0], trial_combo[1], pval, pvals_2d_adj[1][i], pvals_2d_adj[0][i]))\n",
    "    i += 1\n",
    "    "
   ]
  },
  {
   "cell_type": "code",
   "execution_count": 14,
   "metadata": {},
   "outputs": [
    {
     "data": {
      "image/png": "[encoded data removed]",
      "text/plain": [
       "<Figure size 432x288 with 2 Axes>"
      ]
     },
     "metadata": {
      "needs_background": "light"
     },
     "output_type": "display_data"
    }
   ],
   "source": [
    "fig, ax = plt.subplots(1, 2)\n",
    "\n",
    "sns.violinplot(x = 'val', y = 'step', hue = 'group', inner = 'stick', data = fig2d_plot_df, palette = 'colorblind', ax = ax[0])\n",
    "ax[0].set_ylabel(\"\")\n",
    "ax[0].set_xlabel(r\"$\\Delta C_t (Sample - PC)$\")\n",
    "ax[0].legend().set_visible(False)\n",
    "sns.violinplot(x = 'group', y = 'val', hue = 'group', inner = 'stick', data = fig2d_plot_df, palette = 'colorblind', ax = ax[1])\n",
    "ax[1].set_xlabel(\"\")\n",
    "ax[1].tick_params('x', labelrotation=90)\n",
    "ax[1].set_ylabel(r\"$\\Delta C_t$ (Sample - PC)\")\n",
    "ax[1].legend().set_visible(False)\n",
    "fig.tight_layout()\n",
    "plt.savefig('../figs/fig_subparts/fig2/fig2d.pdf', bbox_inches = 'tight', transparent = True, dpi = 300)"
   ]
  },
  {
   "cell_type": "markdown",
   "metadata": {},
   "source": [
    "# Figure 3"
   ]
  },
  {
   "cell_type": "code",
   "execution_count": 15,
   "metadata": {},
   "outputs": [],
   "source": [
    "colors_3 = [\"#fee090\",\"#3182bd\", \"#6baed6\"] #manual, sa1, sa2"
   ]
  },
  {
   "cell_type": "markdown",
   "metadata": {},
   "source": [
    "## 3A\n",
    "* Compare time to process all manual samples vs SA samples"
   ]
  },
  {
   "cell_type": "code",
   "execution_count": 16,
   "metadata": {},
   "outputs": [
    {
     "data": {
      "text/html": [
       "<div>\n",
       "<style scoped>\n",
       "    .dataframe tbody tr th:only-of-type {\n",
       "        vertical-align: middle;\n",
       "    }\n",
       "\n",
       "    .dataframe tbody tr th {\n",
       "        vertical-align: top;\n",
       "    }\n",
       "\n",
       "    .dataframe thead th {\n",
       "        text-align: right;\n",
       "    }\n",
       "</style>\n",
       "<table border=\"1\" class=\"dataframe\">\n",
       "  <thead>\n",
       "    <tr style=\"text-align: right;\">\n",
       "      <th></th>\n",
       "      <th>sample_set</th>\n",
       "      <th>n_samples</th>\n",
       "      <th>n_samples_per_batch</th>\n",
       "      <th>n_hours_per_batch</th>\n",
       "      <th>n_hours_total</th>\n",
       "      <th>n_hours_total_over_n_samples</th>\n",
       "    </tr>\n",
       "  </thead>\n",
       "  <tbody>\n",
       "    <tr>\n",
       "      <th>0</th>\n",
       "      <td>manual</td>\n",
       "      <td>107</td>\n",
       "      <td>8</td>\n",
       "      <td>4.5</td>\n",
       "      <td>63.0</td>\n",
       "      <td>0.588785</td>\n",
       "    </tr>\n",
       "    <tr>\n",
       "      <th>1</th>\n",
       "      <td>sa1</td>\n",
       "      <td>485</td>\n",
       "      <td>96</td>\n",
       "      <td>4.5</td>\n",
       "      <td>27.0</td>\n",
       "      <td>0.055670</td>\n",
       "    </tr>\n",
       "    <tr>\n",
       "      <th>2</th>\n",
       "      <td>sa2</td>\n",
       "      <td>161</td>\n",
       "      <td>96</td>\n",
       "      <td>4.5</td>\n",
       "      <td>9.0</td>\n",
       "      <td>0.055901</td>\n",
       "    </tr>\n",
       "  </tbody>\n",
       "</table>\n",
       "</div>"
      ],
      "text/plain": [
       "  sample_set  n_samples  n_samples_per_batch  n_hours_per_batch  \\\n",
       "0     manual        107                    8                4.5   \n",
       "1        sa1        485                   96                4.5   \n",
       "2        sa2        161                   96                4.5   \n",
       "\n",
       "   n_hours_total  n_hours_total_over_n_samples  \n",
       "0           63.0                      0.588785  \n",
       "1           27.0                      0.055670  \n",
       "2            9.0                      0.055901  "
      ]
     },
     "execution_count": 16,
     "metadata": {},
     "output_type": "execute_result"
    }
   ],
   "source": [
    "# Load data\n",
    "fig3a_data = read_data(\"../data/fig3/fig3a_time_comparison.csv\")\n",
    "fig3a_data.insert(fig3a_data.shape[1], \"n_hours_total\", get_n_processing_hours(fig3a_data))\n",
    "fig3a_data.insert(fig3a_data.shape[1], \"n_hours_total_over_n_samples\", fig3a_data.n_hours_total / fig3a_data.n_samples)\n",
    "fig3a_data.head()"
   ]
  },
  {
   "cell_type": "code",
   "execution_count": 17,
   "metadata": {},
   "outputs": [
    {
     "data": {
      "image/png": "[encoded data removed]",
      "text/plain": [
       "<Figure size 432x288 with 2 Axes>"
      ]
     },
     "metadata": {
      "needs_background": "light"
     },
     "output_type": "display_data"
    }
   ],
   "source": [
    "fig, ax = plt.subplots(1, 2)\n",
    "\n",
    "sns.scatterplot(x = \"sample_set\", y = \"n_samples\", size = 5, data = fig3a_data, color = '#1f78b4',  ax = ax[0], label = \"Samples\", sizes = (60, 60), legend = False, linewidth = 0)\n",
    "sns.scatterplot(x = \"sample_set\", y = \"n_hours_total\", size = 5, data = fig3a_data, color = '#fc8d59', ax = ax[0], label = \"Hours\", sizes = (60, 60), legend = False, linewidth = 0)\n",
    "ax[0].set_ylabel(\"Total number\")\n",
    "ax[0].set_xlabel(\"\")\n",
    "ax[0].legend(loc=\"upper right\", ncol=2, frameon=0, bbox_to_anchor=(1.03, 1.1))\n",
    "\n",
    "sns.barplot(x = \"sample_set\", y = \"n_hours_total_over_n_samples\", data = fig3a_data, palette = colors_3, ax = ax[1])\n",
    "ax[1].set_ylabel(\"N hours spent processing per sample\")\n",
    "ax[1].set_xlabel(\"\")\n",
    "\n",
    "fig.tight_layout()\n",
    "plt.savefig(\"fig_subparts/fig3/fig3a.pdf\", transparent = True, bbox_inches = 'tight')"
   ]
  },
  {
   "cell_type": "markdown",
   "metadata": {},
   "source": [
    "## 3B\n",
    "* Compare RNA concentration from manual vs SA isolations"
   ]
  },
  {
   "cell_type": "code",
   "execution_count": 18,
   "metadata": {},
   "outputs": [
    {
     "data": {
      "text/html": [
       "<div>\n",
       "<style scoped>\n",
       "    .dataframe tbody tr th:only-of-type {\n",
       "        vertical-align: middle;\n",
       "    }\n",
       "\n",
       "    .dataframe tbody tr th {\n",
       "        vertical-align: top;\n",
       "    }\n",
       "\n",
       "    .dataframe thead th {\n",
       "        text-align: right;\n",
       "    }\n",
       "</style>\n",
       "<table border=\"1\" class=\"dataframe\">\n",
       "  <thead>\n",
       "    <tr style=\"text-align: right;\">\n",
       "      <th></th>\n",
       "      <th>label</th>\n",
       "      <th>rna_conc_per_mL_plasma</th>\n",
       "    </tr>\n",
       "  </thead>\n",
       "  <tbody>\n",
       "    <tr>\n",
       "      <th>0</th>\n",
       "      <td>Manual</td>\n",
       "      <td>3.626667</td>\n",
       "    </tr>\n",
       "    <tr>\n",
       "      <th>1</th>\n",
       "      <td>Manual</td>\n",
       "      <td>2.200000</td>\n",
       "    </tr>\n",
       "    <tr>\n",
       "      <th>2</th>\n",
       "      <td>Manual</td>\n",
       "      <td>5.186667</td>\n",
       "    </tr>\n",
       "    <tr>\n",
       "      <th>3</th>\n",
       "      <td>Manual</td>\n",
       "      <td>11.413333</td>\n",
       "    </tr>\n",
       "    <tr>\n",
       "      <th>4</th>\n",
       "      <td>Manual</td>\n",
       "      <td>6.053333</td>\n",
       "    </tr>\n",
       "  </tbody>\n",
       "</table>\n",
       "</div>"
      ],
      "text/plain": [
       "    label  rna_conc_per_mL_plasma\n",
       "0  Manual                3.626667\n",
       "1  Manual                2.200000\n",
       "2  Manual                5.186667\n",
       "3  Manual               11.413333\n",
       "4  Manual                6.053333"
      ]
     },
     "execution_count": 18,
     "metadata": {},
     "output_type": "execute_result"
    }
   ],
   "source": [
    "csvs = {\"Manual\" : \"../data/fig3/fig3b_manual_rna_recovered.csv\", \"SA1\" : \"../data/fig3/fig3b_sa1_rna_recovered.csv\", \n",
    "        \"SA2\" : \"../data/fig3/fig3b_sa2_rna_recovered.csv\"}\n",
    "\n",
    "i = 0\n",
    "for label, csv in csvs.items():\n",
    "    csv_df = pd.DataFrame(data = {\"label\" : label, \"rna_conc_per_mL_plasma\" : get_rna_conc_per_mL_plasma(read_data(csv))})\n",
    "    fig3b_data = csv_df if i == 0 else pd.concat((fig3b_data, csv_df), axis=0)\n",
    "    i += 1\n",
    "    \n",
    "fig3b_data.head()"
   ]
  },
  {
   "cell_type": "code",
   "execution_count": 19,
   "metadata": {},
   "outputs": [
    {
     "name": "stdout",
     "output_type": "stream",
     "text": [
      "Manual and SA1: Pval = 5.564052e-01, Adj Pval = 1.000000e+00, Sig = False\n",
      "Manual and SA2: Pval = 1.914816e-10, Adj Pval = 5.744447e-10, Sig = True\n",
      "SA1 and SA2: Pval = 5.841258e-05, Adj Pval = 1.752377e-04, Sig = True\n"
     ]
    }
   ],
   "source": [
    "fig3_combos = list(combinations(fig3b_data.label.unique(), 2)) \n",
    "pval_3b, pval_adj_3b = test_and_adj(fig3_combos, fig3b_data, \"label\", \"rna_conc_per_mL_plasma\", \"greater\", use_ttest = True)\n",
    "\n",
    "i = 0\n",
    "for combo, pval in pval_3b.items():\n",
    "    print(\"%s and %s: Pval = %e, Adj Pval = %e, Sig = %s\" % (combo[0], combo[1], pval, pval_adj_3b[1][i], pval_adj_3b[0][i]))\n",
    "    i += 1"
   ]
  },
  {
   "cell_type": "code",
   "execution_count": 20,
   "metadata": {},
   "outputs": [
    {
     "data": {
      "text/plain": [
       "Text(0.5, 0, '')"
      ]
     },
     "execution_count": 20,
     "metadata": {},
     "output_type": "execute_result"
    },
    {
     "data": {
      "image/png": "[encoded data removed]",
      "text/plain": [
       "<Figure size 432x288 with 1 Axes>"
      ]
     },
     "metadata": {
      "needs_background": "light"
     },
     "output_type": "display_data"
    }
   ],
   "source": [
    "plt.figure()\n",
    "\n",
    "#sns.swarmplot(x = \"label\", y = \"rna_conc_per_mL_plasma\", data = fig3b_data, color = 'white', alpha = 0.5)\n",
    "sns.violinplot(x = \"label\", y = \"rna_conc_per_mL_plasma\", data = fig3b_data, palette = colors_3, inner = 'stick', edgecolor = 'black')\n",
    "\n",
    "plt.ylabel(\"cfRNA plasma concentration (ng per mL)\")\n",
    "plt.xlabel(\"\")\n",
    "plt.savefig(\"fig_subparts/fig3/fig3b.pdf\", bbox_inches = \"tight\", transparent = True)"
   ]
  },
  {
   "cell_type": "markdown",
   "metadata": {},
   "source": [
    "## 3C"
   ]
  },
  {
   "cell_type": "code",
   "execution_count": 21,
   "metadata": {},
   "outputs": [
    {
     "data": {
      "text/html": [
       "<div>\n",
       "<style scoped>\n",
       "    .dataframe tbody tr th:only-of-type {\n",
       "        vertical-align: middle;\n",
       "    }\n",
       "\n",
       "    .dataframe tbody tr th {\n",
       "        vertical-align: top;\n",
       "    }\n",
       "\n",
       "    .dataframe thead th {\n",
       "        text-align: right;\n",
       "    }\n",
       "</style>\n",
       "<table border=\"1\" class=\"dataframe\">\n",
       "  <thead>\n",
       "    <tr style=\"text-align: right;\">\n",
       "      <th></th>\n",
       "      <th>label</th>\n",
       "      <th>expt</th>\n",
       "      <th>Sample</th>\n",
       "      <th>total_reads</th>\n",
       "      <th>avg_input_read_length</th>\n",
       "      <th>uniquely_mapped</th>\n",
       "      <th>uniquely_mapped_percent</th>\n",
       "      <th>avg_mapped_read_length</th>\n",
       "      <th>num_splices</th>\n",
       "      <th>num_annotated_splices</th>\n",
       "      <th>...</th>\n",
       "      <th>multimapped_toomany</th>\n",
       "      <th>multimapped_toomany_percent</th>\n",
       "      <th>unmapped_mismatches_percent</th>\n",
       "      <th>unmapped_tooshort_percent</th>\n",
       "      <th>unmapped_other_percent</th>\n",
       "      <th>unmapped_mismatches</th>\n",
       "      <th>unmapped_tooshort</th>\n",
       "      <th>unmapped_other</th>\n",
       "      <th>bias_frac</th>\n",
       "      <th>ribo_frac</th>\n",
       "    </tr>\n",
       "  </thead>\n",
       "  <tbody>\n",
       "    <tr>\n",
       "      <th>0</th>\n",
       "      <td>Star</td>\n",
       "      <td>Manual</td>\n",
       "      <td>sample</td>\n",
       "      <td>52725416.0</td>\n",
       "      <td>149.0</td>\n",
       "      <td>40375403.0</td>\n",
       "      <td>76.58</td>\n",
       "      <td>141.31</td>\n",
       "      <td>8260493.0</td>\n",
       "      <td>7994495.0</td>\n",
       "      <td>...</td>\n",
       "      <td>214265.0</td>\n",
       "      <td>0.41</td>\n",
       "      <td>0.51</td>\n",
       "      <td>1.74</td>\n",
       "      <td>0.13</td>\n",
       "      <td>270156.0</td>\n",
       "      <td>921709.0</td>\n",
       "      <td>68863.0</td>\n",
       "      <td>NaN</td>\n",
       "      <td>NaN</td>\n",
       "    </tr>\n",
       "    <tr>\n",
       "      <th>1</th>\n",
       "      <td>Star</td>\n",
       "      <td>Manual</td>\n",
       "      <td>sample</td>\n",
       "      <td>43241410.0</td>\n",
       "      <td>149.0</td>\n",
       "      <td>33785626.0</td>\n",
       "      <td>78.13</td>\n",
       "      <td>142.08</td>\n",
       "      <td>6163719.0</td>\n",
       "      <td>6012097.0</td>\n",
       "      <td>...</td>\n",
       "      <td>397864.0</td>\n",
       "      <td>0.92</td>\n",
       "      <td>0.30</td>\n",
       "      <td>4.79</td>\n",
       "      <td>0.10</td>\n",
       "      <td>129811.0</td>\n",
       "      <td>2072646.0</td>\n",
       "      <td>43270.0</td>\n",
       "      <td>NaN</td>\n",
       "      <td>NaN</td>\n",
       "    </tr>\n",
       "    <tr>\n",
       "      <th>2</th>\n",
       "      <td>Star</td>\n",
       "      <td>Manual</td>\n",
       "      <td>sample</td>\n",
       "      <td>59289758.0</td>\n",
       "      <td>149.0</td>\n",
       "      <td>51597776.0</td>\n",
       "      <td>87.03</td>\n",
       "      <td>142.44</td>\n",
       "      <td>4950467.0</td>\n",
       "      <td>4815854.0</td>\n",
       "      <td>...</td>\n",
       "      <td>178103.0</td>\n",
       "      <td>0.30</td>\n",
       "      <td>0.27</td>\n",
       "      <td>1.20</td>\n",
       "      <td>0.09</td>\n",
       "      <td>160570.0</td>\n",
       "      <td>713645.0</td>\n",
       "      <td>53523.0</td>\n",
       "      <td>NaN</td>\n",
       "      <td>NaN</td>\n",
       "    </tr>\n",
       "    <tr>\n",
       "      <th>3</th>\n",
       "      <td>Star</td>\n",
       "      <td>Manual</td>\n",
       "      <td>sample</td>\n",
       "      <td>44860997.0</td>\n",
       "      <td>149.0</td>\n",
       "      <td>34441093.0</td>\n",
       "      <td>76.77</td>\n",
       "      <td>142.68</td>\n",
       "      <td>7514254.0</td>\n",
       "      <td>7325431.0</td>\n",
       "      <td>...</td>\n",
       "      <td>305049.0</td>\n",
       "      <td>0.68</td>\n",
       "      <td>0.33</td>\n",
       "      <td>6.17</td>\n",
       "      <td>0.14</td>\n",
       "      <td>147983.0</td>\n",
       "      <td>2766836.0</td>\n",
       "      <td>62781.0</td>\n",
       "      <td>NaN</td>\n",
       "      <td>NaN</td>\n",
       "    </tr>\n",
       "    <tr>\n",
       "      <th>4</th>\n",
       "      <td>Star</td>\n",
       "      <td>Manual</td>\n",
       "      <td>sample</td>\n",
       "      <td>55695397.0</td>\n",
       "      <td>149.0</td>\n",
       "      <td>46077775.0</td>\n",
       "      <td>82.73</td>\n",
       "      <td>142.41</td>\n",
       "      <td>8786250.0</td>\n",
       "      <td>8524471.0</td>\n",
       "      <td>...</td>\n",
       "      <td>142256.0</td>\n",
       "      <td>0.26</td>\n",
       "      <td>0.31</td>\n",
       "      <td>0.97</td>\n",
       "      <td>0.10</td>\n",
       "      <td>172664.0</td>\n",
       "      <td>540270.0</td>\n",
       "      <td>55698.0</td>\n",
       "      <td>NaN</td>\n",
       "      <td>NaN</td>\n",
       "    </tr>\n",
       "  </tbody>\n",
       "</table>\n",
       "<p>5 rows × 31 columns</p>\n",
       "</div>"
      ],
      "text/plain": [
       "  label    expt  Sample  total_reads  avg_input_read_length  uniquely_mapped  \\\n",
       "0  Star  Manual  sample   52725416.0                  149.0       40375403.0   \n",
       "1  Star  Manual  sample   43241410.0                  149.0       33785626.0   \n",
       "2  Star  Manual  sample   59289758.0                  149.0       51597776.0   \n",
       "3  Star  Manual  sample   44860997.0                  149.0       34441093.0   \n",
       "4  Star  Manual  sample   55695397.0                  149.0       46077775.0   \n",
       "\n",
       "   uniquely_mapped_percent  avg_mapped_read_length  num_splices  \\\n",
       "0                    76.58                  141.31    8260493.0   \n",
       "1                    78.13                  142.08    6163719.0   \n",
       "2                    87.03                  142.44    4950467.0   \n",
       "3                    76.77                  142.68    7514254.0   \n",
       "4                    82.73                  142.41    8786250.0   \n",
       "\n",
       "   num_annotated_splices  ...  multimapped_toomany  \\\n",
       "0              7994495.0  ...             214265.0   \n",
       "1              6012097.0  ...             397864.0   \n",
       "2              4815854.0  ...             178103.0   \n",
       "3              7325431.0  ...             305049.0   \n",
       "4              8524471.0  ...             142256.0   \n",
       "\n",
       "   multimapped_toomany_percent  unmapped_mismatches_percent  \\\n",
       "0                         0.41                         0.51   \n",
       "1                         0.92                         0.30   \n",
       "2                         0.30                         0.27   \n",
       "3                         0.68                         0.33   \n",
       "4                         0.26                         0.31   \n",
       "\n",
       "   unmapped_tooshort_percent  unmapped_other_percent  unmapped_mismatches  \\\n",
       "0                       1.74                    0.13             270156.0   \n",
       "1                       4.79                    0.10             129811.0   \n",
       "2                       1.20                    0.09             160570.0   \n",
       "3                       6.17                    0.14             147983.0   \n",
       "4                       0.97                    0.10             172664.0   \n",
       "\n",
       "   unmapped_tooshort  unmapped_other  bias_frac  ribo_frac  \n",
       "0           921709.0         68863.0        NaN        NaN  \n",
       "1          2072646.0         43270.0        NaN        NaN  \n",
       "2           713645.0         53523.0        NaN        NaN  \n",
       "3          2766836.0         62781.0        NaN        NaN  \n",
       "4           540270.0         55698.0        NaN        NaN  \n",
       "\n",
       "[5 rows x 31 columns]"
      ]
     },
     "execution_count": 21,
     "metadata": {},
     "output_type": "execute_result"
    }
   ],
   "source": [
    "star_statspaths = {\"Manual\" : \"../data/fig3/fig3c_manual_STARAlignmentStats.txt\", \"SA1\" : \"../data/fig3/fig3c_sa1_STARAlignmentStats.txt\", \n",
    "        \"SA2\" : \"../data/fig3/fig3c_sa2_STARAlignmentStats.txt\"}\n",
    "\n",
    "degpaths = {\"Manual\" : \"../data/fig3/fig3c_manual_deg.txt\", \"SA1\" : \"../data/fig3/fig3c_sa1_deg.txt\", \n",
    "        \"SA2\" : \"../data/fig3/fig3c_sa2_deg.txt\"}\n",
    "\n",
    "ribopaths = {\"Manual\" : \"../data/fig3/fig3c_manual_ribo.txt\", \"SA1\" : \"../data/fig3/fig3c_sa1_ribo.txt\", \n",
    "        \"SA2\" : \"../data/fig3/fig3c_sa2_ribo.txt\"}\n",
    "\n",
    "allpaths = {\"Star\": star_statspaths, \"Deg\" : degpaths, \"Ribo\" : ribopaths}\n",
    "\n",
    "i = 0\n",
    "for label, path_dict in allpaths.items():\n",
    "    for expt, path in path_dict.items():\n",
    "        df = read_data(path, sep = \"\\t\")\n",
    "        df.insert(0, \"expt\", expt)\n",
    "        df.insert(0, \"label\", label)\n",
    "        fig3c_data = df if i == 0 else pd.concat((fig3c_data, df), axis=0)\n",
    "        i += 1\n",
    "\n",
    "fig3c_data.bias_frac = fig3c_data.bias_frac * 100 #frac --> percent \n",
    "fig3c_data.ribo_frac = fig3c_data.ribo_frac * 100 #frac --> percent\n",
    "fig3c_data.head()"
   ]
  },
  {
   "cell_type": "code",
   "execution_count": 22,
   "metadata": {},
   "outputs": [
    {
     "data": {
      "image/png": "[encoded data removed]",
      "text/plain": [
       "<Figure size 432x288 with 3 Axes>"
      ]
     },
     "metadata": {
      "needs_background": "light"
     },
     "output_type": "display_data"
    }
   ],
   "source": [
    "fig, ax = plt.subplots(1, 3, sharey = True)\n",
    "\n",
    "sns.boxplot(x = \"expt\", y = \"bias_frac\", data = fig3c_data.loc[fig3c_data.label == \"Deg\"], palette = colors_3, ax = ax[0])\n",
    "ax[0].set_xlabel(\"\")\n",
    "ax[0].set_ylabel(\"Genes where all reads mapped to 3' exon (%)\")\n",
    "\n",
    "sns.boxplot(x = \"expt\", y = \"uniquely_mapped_percent\", data = fig3c_data.loc[fig3c_data.label == \"Star\"], palette = colors_3, ax = ax[1])\n",
    "ax[1].set_xlabel(\"\")\n",
    "ax[1].set_ylabel(\"Uniquely Mapped Reads (%)\")\n",
    "\n",
    "sns.boxplot(x = \"expt\", y = \"ribo_frac\", data = fig3c_data.loc[fig3c_data.label == \"Ribo\"], palette = colors_3, ax = ax[2])\n",
    "ax[2].set_xlabel(\"\")\n",
    "ax[2].set_ylabel(\"Ribosomal reads (%)\")\n",
    "\n",
    "fig.tight_layout()\n",
    "plt.savefig(\"fig_subparts/fig3/fig3c.pdf\", bbox_inches = 'tight', transparent = True)"
   ]
  },
  {
   "cell_type": "code",
   "execution_count": 23,
   "metadata": {},
   "outputs": [
    {
     "name": "stdout",
     "output_type": "stream",
     "text": [
      "Deg - Manual and SA1: Pval = 5.716976e-01, Adj Pval = 1.000000e+00, Sig = False\n",
      "Deg - Manual and SA2: Pval = 3.060732e-14, Adj Pval = 9.182196e-14, Sig = True\n",
      "Deg - SA1 and SA2: Pval = 5.687502e-15, Adj Pval = 1.706251e-14, Sig = True\n",
      "\n"
     ]
    },
    {
     "data": {
      "text/html": [
       "<div>\n",
       "<style scoped>\n",
       "    .dataframe tbody tr th:only-of-type {\n",
       "        vertical-align: middle;\n",
       "    }\n",
       "\n",
       "    .dataframe tbody tr th {\n",
       "        vertical-align: top;\n",
       "    }\n",
       "\n",
       "    .dataframe thead th {\n",
       "        text-align: right;\n",
       "    }\n",
       "</style>\n",
       "<table border=\"1\" class=\"dataframe\">\n",
       "  <thead>\n",
       "    <tr style=\"text-align: right;\">\n",
       "      <th></th>\n",
       "      <th>bias_frac</th>\n",
       "      <th>bias_frac</th>\n",
       "    </tr>\n",
       "    <tr>\n",
       "      <th>expt</th>\n",
       "      <th></th>\n",
       "      <th></th>\n",
       "    </tr>\n",
       "  </thead>\n",
       "  <tbody>\n",
       "    <tr>\n",
       "      <th>Manual</th>\n",
       "      <td>28.777333</td>\n",
       "      <td>2.543869</td>\n",
       "    </tr>\n",
       "    <tr>\n",
       "      <th>SA1</th>\n",
       "      <td>28.725717</td>\n",
       "      <td>2.126282</td>\n",
       "    </tr>\n",
       "    <tr>\n",
       "      <th>SA2</th>\n",
       "      <td>36.159917</td>\n",
       "      <td>10.951970</td>\n",
       "    </tr>\n",
       "  </tbody>\n",
       "</table>\n",
       "</div>"
      ],
      "text/plain": [
       "        bias_frac  bias_frac\n",
       "expt                        \n",
       "Manual  28.777333   2.543869\n",
       "SA1     28.725717   2.126282\n",
       "SA2     36.159917  10.951970"
      ]
     },
     "execution_count": 23,
     "metadata": {},
     "output_type": "execute_result"
    }
   ],
   "source": [
    "pvals_3c_deg, pvals_3c_deg_adj = test_and_adj(fig3_combos, fig3c_data.loc[fig3c_data.label == \"Deg\"], \"expt\", \"bias_frac\", \"less\", use_ttest = True)\n",
    "\n",
    "i = 0\n",
    "for combo, pval in pvals_3c_deg.items():\n",
    "    print(\"Deg - %s and %s: Pval = %e, Adj Pval = %e, Sig = %s\" % (combo[0], combo[1], pval, pvals_3c_deg_adj[1][i], pvals_3c_deg_adj[0][i]))\n",
    "    i += 1\n",
    "print()\n",
    "pd.concat((fig3c_data.loc[fig3c_data.label == \"Deg\"].groupby(\"expt\").bias_frac.mean(),\n",
    "               fig3c_data.loc[fig3c_data.label == \"Deg\"].groupby(\"expt\").bias_frac.std()), axis=1)"
   ]
  },
  {
   "cell_type": "code",
   "execution_count": 24,
   "metadata": {},
   "outputs": [
    {
     "name": "stdout",
     "output_type": "stream",
     "text": [
      "STAR - Manual and SA1: Pval = 2.819063e-01, Adj Pval = 8.457188e-01, Sig = False\n",
      "STAR - Manual and SA2: Pval = 2.426251e-30, Adj Pval = 7.278753e-30, Sig = True\n",
      "STAR - SA1 and SA2: Pval = 8.689102e-54, Adj Pval = 2.606731e-53, Sig = True\n",
      "\n"
     ]
    },
    {
     "data": {
      "text/html": [
       "<div>\n",
       "<style scoped>\n",
       "    .dataframe tbody tr th:only-of-type {\n",
       "        vertical-align: middle;\n",
       "    }\n",
       "\n",
       "    .dataframe tbody tr th {\n",
       "        vertical-align: top;\n",
       "    }\n",
       "\n",
       "    .dataframe thead th {\n",
       "        text-align: right;\n",
       "    }\n",
       "</style>\n",
       "<table border=\"1\" class=\"dataframe\">\n",
       "  <thead>\n",
       "    <tr style=\"text-align: right;\">\n",
       "      <th></th>\n",
       "      <th>uniquely_mapped_percent</th>\n",
       "      <th>uniquely_mapped_percent</th>\n",
       "    </tr>\n",
       "    <tr>\n",
       "      <th>expt</th>\n",
       "      <th></th>\n",
       "      <th></th>\n",
       "    </tr>\n",
       "  </thead>\n",
       "  <tbody>\n",
       "    <tr>\n",
       "      <th>Manual</th>\n",
       "      <td>70.185667</td>\n",
       "      <td>15.059262</td>\n",
       "    </tr>\n",
       "    <tr>\n",
       "      <th>SA1</th>\n",
       "      <td>69.231505</td>\n",
       "      <td>9.735133</td>\n",
       "    </tr>\n",
       "    <tr>\n",
       "      <th>SA2</th>\n",
       "      <td>43.056460</td>\n",
       "      <td>14.741678</td>\n",
       "    </tr>\n",
       "  </tbody>\n",
       "</table>\n",
       "</div>"
      ],
      "text/plain": [
       "        uniquely_mapped_percent  uniquely_mapped_percent\n",
       "expt                                                    \n",
       "Manual                70.185667                15.059262\n",
       "SA1                   69.231505                 9.735133\n",
       "SA2                   43.056460                14.741678"
      ]
     },
     "execution_count": 24,
     "metadata": {},
     "output_type": "execute_result"
    }
   ],
   "source": [
    "pvals_3c_star, pvals_3c_star_adj = test_and_adj(fig3_combos, fig3c_data.loc[fig3c_data.label == \"Star\"], \"expt\", \"uniquely_mapped_percent\", \"greater\", use_ttest = True)\n",
    "\n",
    "i = 0\n",
    "for combo, pval in pvals_3c_star.items():\n",
    "    print(\"STAR - %s and %s: Pval = %e, Adj Pval = %e, Sig = %s\" % (combo[0], combo[1], pval, pvals_3c_star_adj[1][i], pvals_3c_star_adj[0][i]))\n",
    "    i += 1\n",
    "    \n",
    "print()\n",
    "pd.concat((fig3c_data.loc[fig3c_data.label == \"Star\"].groupby(\"expt\").uniquely_mapped_percent.mean(),\n",
    "               fig3c_data.loc[fig3c_data.label == \"Star\"].groupby(\"expt\").uniquely_mapped_percent.std()), axis=1)"
   ]
  },
  {
   "cell_type": "code",
   "execution_count": 25,
   "metadata": {},
   "outputs": [
    {
     "name": "stdout",
     "output_type": "stream",
     "text": [
      "Ribo - Manual and SA1: Pval = 1.000000e+00, Adj Pval = 1.000000e+00, Sig = False\n",
      "Ribo - Manual and SA2: Pval = 9.999795e-01, Adj Pval = 1.000000e+00, Sig = False\n",
      "Ribo - SA1 and SA2: Pval = 1.150377e-14, Adj Pval = 3.451130e-14, Sig = True\n",
      "\n"
     ]
    },
    {
     "data": {
      "text/html": [
       "<div>\n",
       "<style scoped>\n",
       "    .dataframe tbody tr th:only-of-type {\n",
       "        vertical-align: middle;\n",
       "    }\n",
       "\n",
       "    .dataframe tbody tr th {\n",
       "        vertical-align: top;\n",
       "    }\n",
       "\n",
       "    .dataframe thead th {\n",
       "        text-align: right;\n",
       "    }\n",
       "</style>\n",
       "<table border=\"1\" class=\"dataframe\">\n",
       "  <thead>\n",
       "    <tr style=\"text-align: right;\">\n",
       "      <th></th>\n",
       "      <th>ribo_frac</th>\n",
       "      <th>ribo_frac</th>\n",
       "    </tr>\n",
       "    <tr>\n",
       "      <th>expt</th>\n",
       "      <th></th>\n",
       "      <th></th>\n",
       "    </tr>\n",
       "  </thead>\n",
       "  <tbody>\n",
       "    <tr>\n",
       "      <th>Manual</th>\n",
       "      <td>16.318412</td>\n",
       "      <td>7.730949</td>\n",
       "    </tr>\n",
       "    <tr>\n",
       "      <th>SA1</th>\n",
       "      <td>7.636854</td>\n",
       "      <td>3.152146</td>\n",
       "    </tr>\n",
       "    <tr>\n",
       "      <th>SA2</th>\n",
       "      <td>12.213415</td>\n",
       "      <td>6.762773</td>\n",
       "    </tr>\n",
       "  </tbody>\n",
       "</table>\n",
       "</div>"
      ],
      "text/plain": [
       "        ribo_frac  ribo_frac\n",
       "expt                        \n",
       "Manual  16.318412   7.730949\n",
       "SA1      7.636854   3.152146\n",
       "SA2     12.213415   6.762773"
      ]
     },
     "execution_count": 25,
     "metadata": {},
     "output_type": "execute_result"
    }
   ],
   "source": [
    "pvals_3c_ribo, pvals_3c_ribo_adj = test_and_adj(fig3_combos, fig3c_data.loc[fig3c_data.label == \"Ribo\"], \"expt\", \"ribo_frac\", \"less\", use_ttest = True)\n",
    "\n",
    "i = 0\n",
    "for combo, pval in pvals_3c_ribo.items():\n",
    "    print(\"Ribo - %s and %s: Pval = %e, Adj Pval = %e, Sig = %s\" % (combo[0], combo[1], pval, pvals_3c_ribo_adj[1][i], pvals_3c_ribo_adj[0][i]))\n",
    "    i += 1\n",
    "    \n",
    "print()\n",
    "pd.concat((fig3c_data.loc[fig3c_data.label == \"Ribo\"].groupby(\"expt\").ribo_frac.mean(),\n",
    "               fig3c_data.loc[fig3c_data.label == \"Ribo\"].groupby(\"expt\").ribo_frac.std()), axis=1)"
   ]
  },
  {
   "cell_type": "markdown",
   "metadata": {},
   "source": [
    "# Supp"
   ]
  },
  {
   "cell_type": "markdown",
   "metadata": {},
   "source": [
    "## Fig 1"
   ]
  },
  {
   "cell_type": "code",
   "execution_count": 26,
   "metadata": {},
   "outputs": [],
   "source": [
    "plate_layout_qc = {10000 : [get_well_list(\"E\", [1]), get_well_list(\"F\", [1]), get_well_list(\"G\", [1])],\n",
    "                   5000 : [get_well_list(\"E\", [2]), get_well_list(\"F\", [2]), get_well_list(\"G\", [2])],\n",
    "                   2500 : [get_well_list(\"E\", [3]), get_well_list(\"F\", [3]), get_well_list(\"G\", [3])],\n",
    "                   1250 : [get_well_list(\"E\", [4]), get_well_list(\"F\", [4]), get_well_list(\"G\", [4])],\n",
    "                   625 : [get_well_list(\"E\", [5]), get_well_list(\"F\", [5]), get_well_list(\"G\", [5])],\n",
    "                   312.5 : [get_well_list(\"E\", [6]), get_well_list(\"F\", [6]), get_well_list(\"G\", [6])],\n",
    "                   156 : [get_well_list(\"E\", [7]), get_well_list(\"F\", [7]), get_well_list(\"G\", [7])],\n",
    "                   78 : [get_well_list(\"E\", [8]), get_well_list(\"F\", [8]), get_well_list(\"G\", [8])],\n",
    "                   39 : [get_well_list(\"E\", [9]), get_well_list(\"F\", [9]), get_well_list(\"G\", [9])],\n",
    "                   19.5 : [get_well_list(\"E\", [10]), get_well_list(\"F\", [10]), get_well_list(\"G\", [10])],\n",
    "                   10 : [get_well_list(\"E\", [11]), get_well_list(\"F\", [11]), get_well_list(\"G\", [11])],\n",
    "                   5 : [get_well_list(\"E\", [12]), get_well_list(\"F\", [12]), get_well_list(\"G\", [12])],\n",
    "                          }\n",
    "\n",
    "supp_fig1 = qpcr_plate(read_qpcr_data(\"../data/supp_ERCC54_oligoQC_100118.xlsx\"), plate_layout_qc)"
   ]
  },
  {
   "cell_type": "code",
   "execution_count": 27,
   "metadata": {},
   "outputs": [],
   "source": [
    "pg = np.array(list(supp_fig1.data.keys()))\n",
    "ct = np.array(list(supp_fig1.data.values()))[:, 0] \n",
    "lin_fit = np.poly1d(np.polyfit(np.log2(pg), ct, deg=1))"
   ]
  },
  {
   "cell_type": "code",
   "execution_count": 28,
   "metadata": {},
   "outputs": [
    {
     "name": "stderr",
     "output_type": "stream",
     "text": [
      "/Users/miramou/miniconda3/envs/gen_comp/lib/python3.6/site-packages/ipykernel_launcher.py:8: MatplotlibDeprecationWarning: The 'basex' parameter of __init__() has been renamed 'base' since Matplotlib 3.3; support for the old name will be dropped two minor releases later.\n",
      "  \n"
     ]
    },
    {
     "data": {
      "text/plain": [
       "Text(0.5, 0, 'Oligo (pg)')"
      ]
     },
     "execution_count": 28,
     "metadata": {},
     "output_type": "execute_result"
    },
    {
     "data": {
      "image/png": "[encoded data removed]",
      "text/plain": [
       "<Figure size 432x288 with 2 Axes>"
      ]
     },
     "metadata": {
      "needs_background": "light"
     },
     "output_type": "display_data"
    }
   ],
   "source": [
    "plt.figure()\n",
    "plt.subplot(121)\n",
    "plt.scatter(pg, ct, color = 'k')\n",
    "plt.plot(pg, ct, color = 'k')\n",
    "plt.xlabel(\"Oligo (pg)\")\n",
    "plt.ylabel(\"Cycle threshold\")\n",
    "ax = plt.subplot(122)\n",
    "ax.set_xscale('log', basex=2)\n",
    "plt.scatter(pg, ct, color = 'k')\n",
    "plt.plot(pg, lin_fit(np.log2(pg)), color = 'k')\n",
    "plt.xlabel(\"Oligo (pg)\")\n",
    "#plt.savefig(\"fig_subparts/supp/supp1.pdf\", transparent = True, bbox_inches = 'tight')"
   ]
  }
 ],
 "metadata": {
  "kernelspec": {
   "display_name": "Python [conda env:gen_comp]",
   "language": "python",
   "name": "conda-env-gen_comp-py"
  },
  "language_info": {
   "codemirror_mode": {
    "name": "ipython",
    "version": 3
   },
   "file_extension": ".py",
   "mimetype": "text/x-python",
   "name": "python",
   "nbconvert_exporter": "python",
   "pygments_lexer": "ipython3",
   "version": "3.6.10"
  }
 },
 "nbformat": 4,
 "nbformat_minor": 2
}
